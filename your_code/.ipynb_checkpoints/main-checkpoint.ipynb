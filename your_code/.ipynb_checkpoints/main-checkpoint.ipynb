{
 "cells": [
  {
   "cell_type": "markdown",
   "metadata": {},
   "source": [
    "# Advanced Querying Mongo"
   ]
  },
  {
   "cell_type": "markdown",
   "metadata": {},
   "source": [
    "Importing libraries and setting up connection"
   ]
  },
  {
   "cell_type": "code",
   "execution_count": 24,
   "metadata": {},
   "outputs": [
    {
     "name": "stdout",
     "output_type": "stream",
     "text": [
      "Requirement already satisfied: pymongo in c:\\users\\pabli\\anaconda3\\lib\\site-packages (4.3.2)\n",
      "Requirement already satisfied: dnspython<3.0.0,>=1.16.0 in c:\\users\\pabli\\anaconda3\\lib\\site-packages (from pymongo) (2.2.1)\n",
      "Note: you may need to restart the kernel to use updated packages.\n"
     ]
    },
    {
     "data": {
      "text/plain": [
       "Database(MongoClient(host=['localhost:27017'], document_class=dict, tz_aware=False, connect=True), 'Companies')"
      ]
     },
     "execution_count": 24,
     "metadata": {},
     "output_type": "execute_result"
    }
   ],
   "source": [
    "%pip install pymongo\n",
    "from pymongo import MongoClient\n",
    "client='mongodb://localhost:27017'\n",
    "cursor = MongoClient(client)\n",
    "db=cursor.Companies\n",
    "db"
   ]
  },
  {
   "cell_type": "code",
   "execution_count": 25,
   "metadata": {},
   "outputs": [
    {
     "data": {
      "text/plain": [
       "['Companies', 'admin', 'config', 'local']"
      ]
     },
     "execution_count": 25,
     "metadata": {},
     "output_type": "execute_result"
    }
   ],
   "source": [
    "cursor.list_database_names()"
   ]
  },
  {
   "cell_type": "code",
   "execution_count": 26,
   "metadata": {},
   "outputs": [
    {
     "data": {
      "text/plain": [
       "Collection(Database(MongoClient(host=['localhost:27017'], document_class=dict, tz_aware=False, connect=True), 'Companies'), 'companies')"
      ]
     },
     "execution_count": 26,
     "metadata": {},
     "output_type": "execute_result"
    }
   ],
   "source": [
    "db.companies"
   ]
  },
  {
   "cell_type": "code",
   "execution_count": 27,
   "metadata": {},
   "outputs": [
    {
     "data": {
      "text/plain": [
       "['Companies']"
      ]
     },
     "execution_count": 27,
     "metadata": {},
     "output_type": "execute_result"
    }
   ],
   "source": [
    "db.list_collection_names()"
   ]
  },
  {
   "cell_type": "code",
   "execution_count": null,
   "metadata": {},
   "outputs": [],
   "source": []
  },
  {
   "cell_type": "markdown",
   "metadata": {},
   "source": [
    "### 1. All the companies whose name match 'Babelgum'. Retrieve only their `name` field."
   ]
  },
  {
   "cell_type": "code",
   "execution_count": 31,
   "metadata": {},
   "outputs": [
    {
     "data": {
      "text/plain": [
       "[{'name': 'Babelgum'}]"
      ]
     },
     "execution_count": 31,
     "metadata": {},
     "output_type": "execute_result"
    }
   ],
   "source": [
    "query={'name':'Babelgum'}\n",
    "\n",
    "filtro={'name': True, '_id': False}\n",
    "\n",
    "\n",
    "list(db.Companies.find(query, filtro).limit(10))"
   ]
  },
  {
   "cell_type": "markdown",
   "metadata": {},
   "source": [
    "### 2. All the companies that have more than 5000 employees. Limit the search to 20 companies and sort them by **number of employees**."
   ]
  },
  {
   "cell_type": "code",
   "execution_count": 33,
   "metadata": {},
   "outputs": [],
   "source": [
    "dc = db.Companies"
   ]
  },
  {
   "cell_type": "code",
   "execution_count": 37,
   "metadata": {},
   "outputs": [
    {
     "data": {
      "text/plain": [
       "[{'name': 'Facebook'},\n",
       " {'name': 'eBay'},\n",
       " {'name': 'Cisco'},\n",
       " {'name': 'Yahoo!'},\n",
       " {'name': 'Google'},\n",
       " {'name': 'Intel'},\n",
       " {'name': 'Nintendo'},\n",
       " {'name': 'Adobe Systems'},\n",
       " {'name': 'Sony'},\n",
       " {'name': 'PayPal'},\n",
       " {'name': 'The Walt Disney Company'},\n",
       " {'name': 'AOL'},\n",
       " {'name': 'Webkinz'},\n",
       " {'name': 'Sun Microsystems'},\n",
       " {'name': 'Nokia'},\n",
       " {'name': 'Rakuten'},\n",
       " {'name': 'Microsoft'},\n",
       " {'name': 'Apple'},\n",
       " {'name': 'NetApp'},\n",
       " {'name': 'Motorola Solutions'}]"
      ]
     },
     "execution_count": 37,
     "metadata": {},
     "output_type": "execute_result"
    }
   ],
   "source": [
    "# Your Code\n",
    "query={'number_of_employees': {'$gt':5000}}\n",
    "\n",
    "filtro={'name': True, '_id': False}\n",
    "\n",
    "\n",
    "list(dc.find(query, filtro).limit(20))"
   ]
  },
  {
   "cell_type": "markdown",
   "metadata": {},
   "source": [
    "### 3. All the companies founded between 2000 and 2005, both years included. Retrieve only the `name` and `founded_year` fields."
   ]
  },
  {
   "cell_type": "code",
   "execution_count": 41,
   "metadata": {},
   "outputs": [
    {
     "data": {
      "text/plain": [
       "[{'name': 'Digg', 'founded_year': 2004},\n",
       " {'name': 'Facebook', 'founded_year': 2004},\n",
       " {'name': 'StumbleUpon', 'founded_year': 2002},\n",
       " {'name': 'Gizmoz', 'founded_year': 2003},\n",
       " {'name': 'Plaxo', 'founded_year': 2002},\n",
       " {'name': 'Technorati', 'founded_year': 2002},\n",
       " {'name': 'AddThis', 'founded_year': 2004},\n",
       " {'name': 'Veoh', 'founded_year': 2004},\n",
       " {'name': 'Meetup', 'founded_year': 2002},\n",
       " {'name': 'SmugMug', 'founded_year': 2002},\n",
       " {'name': 'Skype', 'founded_year': 2003},\n",
       " {'name': 'Pando Networks', 'founded_year': 2004},\n",
       " {'name': 'Ikan', 'founded_year': 2003},\n",
       " {'name': 'delicious', 'founded_year': 2003},\n",
       " {'name': 'Topix', 'founded_year': 2002},\n",
       " {'name': 'Jobster', 'founded_year': 2004},\n",
       " {'name': 'AllPeers', 'founded_year': 2004},\n",
       " {'name': 'iContact', 'founded_year': 2003},\n",
       " {'name': 'blinkx', 'founded_year': 2004},\n",
       " {'name': 'Yelp', 'founded_year': 2004}]"
      ]
     },
     "execution_count": 41,
     "metadata": {},
     "output_type": "execute_result"
    }
   ],
   "source": [
    "# Your Code\n",
    "query = {'$and':[{'founded_year': {'$lt': 2005}}, \n",
    "                         {'founded_year': {'$gt': 2000}}]}\n",
    "\n",
    "filtro={'name': True, 'founded_year' : True, '_id': False}\n",
    "\n",
    "list(dc.find(query,filtro).limit(20))   "
   ]
  },
  {
   "cell_type": "markdown",
   "metadata": {},
   "source": [
    "### 4. All the companies that had a Valuation Amount of more than 100.000.000 and have been founded before 2010. Retrieve only the `name` and `ipo` fields."
   ]
  },
  {
   "cell_type": "code",
   "execution_count": 49,
   "metadata": {},
   "outputs": [
    {
     "data": {
      "text/plain": [
       "[{'name': 'LinkedIn', 'ipo': {'valuation_amount': 9310000000}},\n",
       " {'name': 'Amazon', 'ipo': {'valuation_amount': 100000000000}}]"
      ]
     },
     "execution_count": 49,
     "metadata": {},
     "output_type": "execute_result"
    }
   ],
   "source": [
    "# Your Code\n",
    "query = {'$and':[{'ipo.valuation_amount': {'$gt': 1e8}}, \n",
    "                         {'founded_year': {'$lt': 2004}}]}\n",
    "\n",
    "filtro={'name': True, 'ipo.valuation_amount' : True, '_id': False}\n",
    "\n",
    "list(dc.find(query,filtro).limit(2))   "
   ]
  },
  {
   "cell_type": "markdown",
   "metadata": {},
   "source": [
    "### 5. All the companies that have less than 1000 employees and have been founded before 2005. Order them by the number of employees and limit the search to 10 companies."
   ]
  },
  {
   "cell_type": "code",
   "execution_count": 54,
   "metadata": {},
   "outputs": [
    {
     "data": {
      "text/plain": [
       "[{'name': 'Infinera Corporation', 'number_of_employees': 974},\n",
       " {'name': 'NorthPoint Communications Group', 'number_of_employees': 948},\n",
       " {'name': '888 Holdings', 'number_of_employees': 931},\n",
       " {'name': 'Forrester Research', 'number_of_employees': 903},\n",
       " {'name': 'SonicWALL', 'number_of_employees': 900},\n",
       " {'name': 'Webmetrics', 'number_of_employees': 900},\n",
       " {'name': 'Cornerstone OnDemand', 'number_of_employees': 881},\n",
       " {'name': 'Mozilla', 'number_of_employees': 800},\n",
       " {'name': 'Buongiorno', 'number_of_employees': 800},\n",
       " {'name': 'Yelp', 'number_of_employees': 800}]"
      ]
     },
     "execution_count": 54,
     "metadata": {},
     "output_type": "execute_result"
    }
   ],
   "source": [
    "# Your Code\n",
    "# Your Code\n",
    "query = {'$and':[{'number_of_employees': {'$lt': 1000}}, \n",
    "                         {'founded_year': {'$lt': 2005}}]}\n",
    "\n",
    "filtro={'name':True,'number_of_employees' : True, '_id': False}\n",
    "\n",
    "list(dc.find(query,filtro).sort('number_of_employees', -1).limit(10))   "
   ]
  },
  {
   "cell_type": "markdown",
   "metadata": {},
   "source": [
    "### 6. All the companies that don't include the `partners` field."
   ]
  },
  {
   "cell_type": "code",
   "execution_count": 59,
   "metadata": {},
   "outputs": [
    {
     "data": {
      "text/plain": [
       "[]"
      ]
     },
     "execution_count": 59,
     "metadata": {},
     "output_type": "execute_result"
    }
   ],
   "source": [
    "# Your Code\n",
    "query = { 'partners': { '$exists': False } }\n",
    "filtro={'name':True, '_id': False}\n",
    "\n",
    "list(dc.find(query, filtro ))"
   ]
  },
  {
   "cell_type": "markdown",
   "metadata": {},
   "source": [
    "### 7. All the companies that have a null type of value on the `category_code` field."
   ]
  },
  {
   "cell_type": "code",
   "execution_count": 62,
   "metadata": {},
   "outputs": [
    {
     "data": {
      "text/plain": [
       "[{'name': 'Collective'},\n",
       " {'name': 'Snimmer'},\n",
       " {'name': 'KoolIM'},\n",
       " {'name': 'Level9 Media'},\n",
       " {'name': 'VidKing'},\n",
       " {'name': 'Drigg'},\n",
       " {'name': 'SpaceTime'},\n",
       " {'name': 'Touch Clarity'},\n",
       " {'name': 'MMDAYS'},\n",
       " {'name': 'Inside Group'}]"
      ]
     },
     "execution_count": 62,
     "metadata": {},
     "output_type": "execute_result"
    }
   ],
   "source": [
    "# Your Code\n",
    "query = { 'category_code'  : { '$type': 10 } }\n",
    "filtro={'name':True, '_id': False}\n",
    "\n",
    "list(dc.find(query, filtro ).limit(10))"
   ]
  },
  {
   "cell_type": "markdown",
   "metadata": {},
   "source": [
    "### 8. All the companies that have at least 100 employees but less than 1000. Retrieve only the `name` and `number of employees` fields."
   ]
  },
  {
   "cell_type": "code",
   "execution_count": 63,
   "metadata": {},
   "outputs": [
    {
     "data": {
      "text/plain": [
       "[{'name': 'AdventNet', 'number_of_employees': 600},\n",
       " {'name': 'AddThis', 'number_of_employees': 120},\n",
       " {'name': 'OpenX', 'number_of_employees': 305},\n",
       " {'name': 'LifeLock', 'number_of_employees': 644},\n",
       " {'name': 'Jajah', 'number_of_employees': 110},\n",
       " {'name': 'Livestream', 'number_of_employees': 120},\n",
       " {'name': 'Ustream', 'number_of_employees': 250},\n",
       " {'name': 'iContact', 'number_of_employees': 300},\n",
       " {'name': 'Yelp', 'number_of_employees': 800},\n",
       " {'name': 'Dailymotion', 'number_of_employees': 120},\n",
       " {'name': 'RockYou', 'number_of_employees': 106},\n",
       " {'name': 'Meebo', 'number_of_employees': 200},\n",
       " {'name': 'Eventbrite', 'number_of_employees': 200},\n",
       " {'name': 'Box', 'number_of_employees': 950},\n",
       " {'name': 'Conduit', 'number_of_employees': 215},\n",
       " {'name': 'Redfin', 'number_of_employees': 100},\n",
       " {'name': 'oDesk', 'number_of_employees': 120},\n",
       " {'name': 'Simply Hired', 'number_of_employees': 100},\n",
       " {'name': 'PhotoBox', 'number_of_employees': 600},\n",
       " {'name': 'Spreadshirt', 'number_of_employees': 230}]"
      ]
     },
     "execution_count": 63,
     "metadata": {},
     "output_type": "execute_result"
    }
   ],
   "source": [
    "# Your Code\n",
    "query = {'$and':[{'number_of_employees': {'$lt': 1000}}, \n",
    "                         {'number_of_employees': {'$gte': 100}}]}\n",
    "\n",
    "filtro={'name': True, 'number_of_employees' : True, '_id': False}\n",
    "\n",
    "list(dc.find(query,filtro).limit(20))   "
   ]
  },
  {
   "cell_type": "markdown",
   "metadata": {},
   "source": [
    "### 9. Order all the companies by their IPO price in a descending order."
   ]
  },
  {
   "cell_type": "code",
   "execution_count": 70,
   "metadata": {},
   "outputs": [
    {
     "data": {
      "text/plain": [
       "[{'name': 'GREE', 'ipo': {'valuation_amount': 108960000000}},\n",
       " {'name': 'Facebook', 'ipo': {'valuation_amount': 104000000000}},\n",
       " {'name': 'Amazon', 'ipo': {'valuation_amount': 100000000000}},\n",
       " {'name': 'Twitter', 'ipo': {'valuation_amount': 18100000000}},\n",
       " {'name': 'Groupon', 'ipo': {'valuation_amount': 12800000000}},\n",
       " {'name': 'Tencent', 'ipo': {'valuation_amount': 11000000000}},\n",
       " {'name': 'Western Digital', 'ipo': {'valuation_amount': 9430000000}},\n",
       " {'name': 'LinkedIn', 'ipo': {'valuation_amount': 9310000000}},\n",
       " {'name': 'BMC Software', 'ipo': {'valuation_amount': 6000000000}},\n",
       " {'name': 'Rackspace', 'ipo': {'valuation_amount': 5440000000}}]"
      ]
     },
     "execution_count": 70,
     "metadata": {},
     "output_type": "execute_result"
    }
   ],
   "source": [
    "filtro = {'name': True, 'ipo.valuation_amount' : True, '_id': False}\n",
    "query = {}\n",
    "list(dc.find(query,filtro).sort('ipo.valuation_amount', -1).limit(10)) "
   ]
  },
  {
   "cell_type": "markdown",
   "metadata": {},
   "source": [
    "### 10. Retrieve the 10 companies with more employees, order by the `number of employees`"
   ]
  },
  {
   "cell_type": "code",
   "execution_count": 72,
   "metadata": {},
   "outputs": [
    {
     "data": {
      "text/plain": [
       "[{'name': 'Siemens', 'number_of_employees': 405000},\n",
       " {'name': 'IBM', 'number_of_employees': 388000},\n",
       " {'name': 'Toyota', 'number_of_employees': 320000},\n",
       " {'name': 'PayPal', 'number_of_employees': 300000},\n",
       " {'name': 'Nippon Telegraph and Telephone Corporation',\n",
       "  'number_of_employees': 227000},\n",
       " {'name': 'Samsung Electronics', 'number_of_employees': 221726},\n",
       " {'name': 'Accenture', 'number_of_employees': 205000},\n",
       " {'name': 'Tata Consultancy Services', 'number_of_employees': 200300},\n",
       " {'name': 'Flextronics International', 'number_of_employees': 200000},\n",
       " {'name': 'Safeway', 'number_of_employees': 186000}]"
      ]
     },
     "execution_count": 72,
     "metadata": {},
     "output_type": "execute_result"
    }
   ],
   "source": [
    "# Your Code\n",
    "filtro = {'name': True,'number_of_employees':True, '_id': False}\n",
    "query = {}\n",
    "list(dc.find(query,filtro).sort('number_of_employees', -1).limit(10)) "
   ]
  },
  {
   "cell_type": "markdown",
   "metadata": {},
   "source": [
    "### 11. All the companies founded on the second semester of the year. Limit your search to 1000 companies."
   ]
  },
  {
   "cell_type": "code",
   "execution_count": 74,
   "metadata": {},
   "outputs": [
    {
     "data": {
      "text/plain": [
       "[{'name': 'Wetpaint'},\n",
       " {'name': 'Zoho'},\n",
       " {'name': 'Digg'},\n",
       " {'name': 'Omnidrive'},\n",
       " {'name': 'eBay'},\n",
       " {'name': 'Joost'},\n",
       " {'name': 'Plaxo'},\n",
       " {'name': 'Powerset'},\n",
       " {'name': 'Kyte'},\n",
       " {'name': 'Thoof'}]"
      ]
     },
     "execution_count": 74,
     "metadata": {},
     "output_type": "execute_result"
    }
   ],
   "source": [
    "# Your Code\n",
    "query = {'founded_month': {'$gt': 6}}\n",
    "filtro = {'name': True, '_id': False}\n",
    "list(dc.find(query,filtro).limit(10)) "
   ]
  },
  {
   "cell_type": "markdown",
   "metadata": {},
   "source": [
    "### 12. All the companies founded before 2000 that have an acquisition amount of more than 10.000.00"
   ]
  },
  {
   "cell_type": "code",
   "execution_count": 76,
   "metadata": {},
   "outputs": [
    {
     "data": {
      "text/plain": [
       "[{'name': 'Postini'},\n",
       " {'name': 'SideStep'},\n",
       " {'name': 'Recipezaar'},\n",
       " {'name': 'Cyworld'},\n",
       " {'name': 'PayPal'},\n",
       " {'name': 'Snapfish'},\n",
       " {'name': 'Neopets'},\n",
       " {'name': 'Sun Microsystems'},\n",
       " {'name': 'Zappos'},\n",
       " {'name': 'Alibaba'}]"
      ]
     },
     "execution_count": 76,
     "metadata": {},
     "output_type": "execute_result"
    }
   ],
   "source": [
    "# Your Code\n",
    "\n",
    "\n",
    " \n",
    "query = {'$and':[{'acquisition.price_amount': {'$gt': 1e5}}, \n",
    "                         {'founded_year': {'$lt': 2000}}]}\n",
    "\n",
    "filtro = {'name': True, '_id': False}\n",
    "list(dc.find(query,filtro).limit(10)) "
   ]
  },
  {
   "cell_type": "markdown",
   "metadata": {},
   "source": [
    "### 13. All the companies that have been acquired after 2010, order by the acquisition amount, and retrieve only their `name` and `acquisition` field."
   ]
  },
  {
   "cell_type": "code",
   "execution_count": 78,
   "metadata": {},
   "outputs": [
    {
     "data": {
      "text/plain": [
       "[{'name': 'T-Mobile',\n",
       "  'acquisition': {'price_amount': 39000000000,\n",
       "   'price_currency_code': 'USD',\n",
       "   'term_code': None,\n",
       "   'source_url': 'http://techcrunch.com/2011/03/20/in-the-race-for-more-spectrum-att-is-acquiring-t-mobile-for-39-billion/',\n",
       "   'source_description': 'In The Race For More Spectrum, AT&T Is Acquiring T-Mobile For $39 Billion',\n",
       "   'acquired_year': 2011,\n",
       "   'acquired_month': 3,\n",
       "   'acquired_day': 20,\n",
       "   'acquiring_company': {'name': 'AT&T', 'permalink': 'at-t'}}},\n",
       " {'name': 'Goodrich Corporation',\n",
       "  'acquisition': {'price_amount': 18400000000,\n",
       "   'price_currency_code': 'USD',\n",
       "   'term_code': None,\n",
       "   'source_url': 'http://www.masshightech.com/stories/2011/09/19/daily37-UTC-shells-out-184-billion-for-Goodrich.html',\n",
       "   'source_description': 'UTC shells out $18.4 billion for Goodrich',\n",
       "   'acquired_year': 2011,\n",
       "   'acquired_month': 9,\n",
       "   'acquired_day': 22,\n",
       "   'acquiring_company': {'name': 'United Technologies',\n",
       "    'permalink': 'united-technologies'}}}]"
      ]
     },
     "execution_count": 78,
     "metadata": {},
     "output_type": "execute_result"
    }
   ],
   "source": [
    "# Your Code\n",
    "# Your Code\n",
    "\n",
    "query = {'acquisition.acquired_year' :{'$gt': 2010}}\n",
    "\n",
    "filtro = {'name': True, 'acquisition':True, '_id': False}\n",
    "list(dc.find(query,filtro).sort('acquisition.price_amount', -1).limit(2))  "
   ]
  },
  {
   "cell_type": "markdown",
   "metadata": {},
   "source": [
    "### 14. Order the companies by their `founded year`, retrieving only their `name` and `founded year`."
   ]
  },
  {
   "cell_type": "code",
   "execution_count": 81,
   "metadata": {},
   "outputs": [
    {
     "data": {
      "text/plain": [
       "[{'name': 'Wamba', 'founded_year': 2013},\n",
       " {'name': 'Gimigo', 'founded_year': 2013},\n",
       " {'name': 'Clowdy', 'founded_year': 2013},\n",
       " {'name': 'Fixya', 'founded_year': 2013},\n",
       " {'name': 'Fluc', 'founded_year': 2013},\n",
       " {'name': 'SEOGroup', 'founded_year': 2013},\n",
       " {'name': 'Pikk', 'founded_year': 2013},\n",
       " {'name': 'WhosCall', 'founded_year': 2013},\n",
       " {'name': 'iBazar', 'founded_year': 2013},\n",
       " {'name': 'Advaliant', 'founded_year': 2013}]"
      ]
     },
     "execution_count": 81,
     "metadata": {},
     "output_type": "execute_result"
    }
   ],
   "source": [
    "# Your Code\n",
    "# Your Code\n",
    "filtro = {'name': True,'founded_year':True, '_id': False}\n",
    "query = {}\n",
    "list(dc.find(query,filtro).sort('founded_year', -1).limit(10)) "
   ]
  },
  {
   "cell_type": "markdown",
   "metadata": {},
   "source": [
    "### 15. All the companies that have been founded on the first seven days of the month, including the seventh. Sort them by their `acquisition price` in a descending order. Limit the search to 10 documents."
   ]
  },
  {
   "cell_type": "code",
   "execution_count": 82,
   "metadata": {},
   "outputs": [
    {
     "data": {
      "text/plain": [
       "[{'name': 'Netscape'},\n",
       " {'name': 'PayPal'},\n",
       " {'name': 'Zappos'},\n",
       " {'name': 'Alibaba'},\n",
       " {'name': 'Postini'},\n",
       " {'name': 'Danger'},\n",
       " {'name': 'Clearwell Systems'},\n",
       " {'name': 'PrimeSense'},\n",
       " {'name': 'Amobee'},\n",
       " {'name': 'BlueLithium'}]"
      ]
     },
     "execution_count": 82,
     "metadata": {},
     "output_type": "execute_result"
    }
   ],
   "source": [
    "# Your Code\n",
    "query = {'founded_day': {'$lte': 7}}\n",
    "filtro = {'name': True, '_id': False}\n",
    "list(dc.find(query,filtro).sort('acquisition.price_amount', -1).limit(10))"
   ]
  },
  {
   "cell_type": "markdown",
   "metadata": {},
   "source": [
    "### 16. All the companies on the 'web' `category` that have more than 4000 employees. Sort them by the amount of employees in ascending order."
   ]
  },
  {
   "cell_type": "code",
   "execution_count": 84,
   "metadata": {},
   "outputs": [
    {
     "data": {
      "text/plain": [
       "[{'name': 'Expedia'},\n",
       " {'name': 'AOL'},\n",
       " {'name': 'Webkinz'},\n",
       " {'name': 'Rakuten'},\n",
       " {'name': 'Los Angeles Times Media Group'},\n",
       " {'name': 'Groupon'},\n",
       " {'name': 'Yahoo!'},\n",
       " {'name': 'eBay'},\n",
       " {'name': 'Experian'}]"
      ]
     },
     "execution_count": 84,
     "metadata": {},
     "output_type": "execute_result"
    }
   ],
   "source": [
    "# Your Code\n",
    " \n",
    "query = {'$and':[{'category_code': 'web'}, \n",
    "                         {'number_of_employees': {'$gt': 4000}}]}\n",
    "\n",
    "filtro = {'name': True, '_id': False}\n",
    "list(dc.find(query,filtro).sort('number_of_employees', 1).limit(10)) \n"
   ]
  },
  {
   "cell_type": "markdown",
   "metadata": {},
   "source": [
    "### 17. All the companies whose acquisition amount is more than 10.000.000, and currency is 'EUR'."
   ]
  },
  {
   "cell_type": "code",
   "execution_count": 85,
   "metadata": {},
   "outputs": [
    {
     "data": {
      "text/plain": [
       "[{'name': 'ZYB'},\n",
       " {'name': 'Apertio'},\n",
       " {'name': 'Greenfield Online'},\n",
       " {'name': 'Mobile Trend'},\n",
       " {'name': 'Citizenside'},\n",
       " {'name': 'Excite Europe'},\n",
       " {'name': 'YelloYello'},\n",
       " {'name': 'Webedia'},\n",
       " {'name': 'Wayfinder'},\n",
       " {'name': 'Branded Payment Solutions'}]"
      ]
     },
     "execution_count": 85,
     "metadata": {},
     "output_type": "execute_result"
    }
   ],
   "source": [
    "# Your Code\n",
    " \n",
    "query = {'$and':[{'acquisition.price_amount': {'$gt': 10000}}, \n",
    "                         {'acquisition.price_currency_code': 'EUR'}]}\n",
    "\n",
    "filtro = {'name': True, '_id': False}\n",
    "list(dc.find(query,filtro).limit(10))\n"
   ]
  },
  {
   "cell_type": "markdown",
   "metadata": {},
   "source": [
    "### 18. All the companies that have been acquired on the first trimester of the year. Limit the search to 10 companies, and retrieve only their `name` and `acquisition` fields."
   ]
  },
  {
   "cell_type": "code",
   "execution_count": 89,
   "metadata": {},
   "outputs": [
    {
     "data": {
      "text/plain": [
       "[{'name': 'StumbleUpon',\n",
       "  'acquisition': {'price_amount': 29000000,\n",
       "   'price_currency_code': 'USD',\n",
       "   'term_code': None,\n",
       "   'source_url': 'http://techcrunch.com/2009/04/13/ebay-unacquires-stumbleupon/',\n",
       "   'source_description': \"StumbleUpon Beats Skype In Escaping EBay's Clutches\",\n",
       "   'acquired_year': 2009,\n",
       "   'acquired_month': 4,\n",
       "   'acquired_day': None,\n",
       "   'acquiring_company': {'name': 'StumbleUpon', 'permalink': 'stumbleupon'}}},\n",
       " {'name': 'Kyte',\n",
       "  'acquisition': {'price_amount': None,\n",
       "   'price_currency_code': 'USD',\n",
       "   'term_code': None,\n",
       "   'source_url': 'http://techcrunch.com/2011/01/31/exclusive-kit-digital-acquires-kickapps-kewego-and-kyte-for-77-2-million/',\n",
       "   'source_description': 'KIT digital Acquires KickApps, Kewego AND Kyte For $77.2 Million',\n",
       "   'acquired_year': 2011,\n",
       "   'acquired_month': 1,\n",
       "   'acquired_day': 31,\n",
       "   'acquiring_company': {'name': 'KIT digital', 'permalink': 'kit-digital'}}}]"
      ]
     },
     "execution_count": 89,
     "metadata": {},
     "output_type": "execute_result"
    }
   ],
   "source": [
    "# Your Code\n",
    "# Your Code\n",
    "query = {'acquisition.acquired_month': {'$lte': 4}}\n",
    "filtro = {'name': True, 'acquisition' : True, '_id': False}\n",
    "list(dc.find(query,filtro).limit(2))"
   ]
  },
  {
   "cell_type": "markdown",
   "metadata": {},
   "source": [
    "# Bonus\n",
    "### 19. All the companies that have been founded between 2000 and 2010, but have not been acquired before 2011."
   ]
  },
  {
   "cell_type": "code",
   "execution_count": 95,
   "metadata": {},
   "outputs": [
    {
     "data": {
      "text/plain": [
       "[{'name': 'Wetpaint'},\n",
       " {'name': 'Digg'},\n",
       " {'name': 'Geni'},\n",
       " {'name': 'StumbleUpon'},\n",
       " {'name': 'Gizmoz'},\n",
       " {'name': 'Helio'},\n",
       " {'name': 'Joost'},\n",
       " {'name': 'Plaxo'},\n",
       " {'name': 'Powerset'},\n",
       " {'name': 'Kyte'}]"
      ]
     },
     "execution_count": 95,
     "metadata": {},
     "output_type": "execute_result"
    }
   ],
   "source": [
    "# Your Code\n",
    "query = {'$and':[{'founded_year': {'$lt': 2010}}, \n",
    "                         {'founded_year': {'$gt': 2000}} ,\n",
    "                  {'acquisition.acquired_year':{'$gt': 2000}}]}\n",
    "\n",
    "filtro = {'name': True, '_id': False}\n",
    "list(dc.find(query,filtro).limit(10))"
   ]
  },
  {
   "cell_type": "markdown",
   "metadata": {},
   "source": [
    "### 20. All the companies that have been 'deadpooled' after the third year."
   ]
  },
  {
   "cell_type": "code",
   "execution_count": 96,
   "metadata": {},
   "outputs": [
    {
     "data": {
      "text/plain": [
       "[{'name': 'Omnidrive'},\n",
       " {'name': 'Babelgum'},\n",
       " {'name': 'Sparter'},\n",
       " {'name': 'Thoof'},\n",
       " {'name': 'Mercora'},\n",
       " {'name': 'Wesabe'},\n",
       " {'name': 'Jangl SMS'},\n",
       " {'name': 'Stickam'},\n",
       " {'name': 'AllPeers'},\n",
       " {'name': 'EQO'}]"
      ]
     },
     "execution_count": 96,
     "metadata": {},
     "output_type": "execute_result"
    }
   ],
   "source": [
    "# Your Code\n",
    "query = {'deadpooled_year': {'$gt': 3}}\n",
    "filtro = {'name': True, '_id': False}\n",
    "list(dc.find(query,filtro).limit(10))"
   ]
  },
  {
   "cell_type": "code",
   "execution_count": 140,
   "metadata": {},
   "outputs": [
    {
     "ename": "TypeError",
     "evalue": "'list' object is not callable",
     "output_type": "error",
     "traceback": [
      "\u001b[1;31m---------------------------------------------------------------------------\u001b[0m",
      "\u001b[1;31mTypeError\u001b[0m                                 Traceback (most recent call last)",
      "Input \u001b[1;32mIn [140]\u001b[0m, in \u001b[0;36m<cell line: 5>\u001b[1;34m()\u001b[0m\n\u001b[0;32m      2\u001b[0m filtro \u001b[38;5;241m=\u001b[39m {\u001b[38;5;124m'\u001b[39m\u001b[38;5;124mname\u001b[39m\u001b[38;5;124m'\u001b[39m: \u001b[38;5;28;01mTrue\u001b[39;00m,\u001b[38;5;124m'\u001b[39m\u001b[38;5;124mdeadpooled_year\u001b[39m\u001b[38;5;124m'\u001b[39m: \u001b[38;5;28;01mTrue\u001b[39;00m, \u001b[38;5;124m'\u001b[39m\u001b[38;5;124mfounded_year\u001b[39m\u001b[38;5;124m'\u001b[39m:\u001b[38;5;28;01mTrue\u001b[39;00m, \u001b[38;5;124m'\u001b[39m\u001b[38;5;124m_id\u001b[39m\u001b[38;5;124m'\u001b[39m: \u001b[38;5;28;01mFalse\u001b[39;00m}\n\u001b[0;32m      3\u001b[0m query \u001b[38;5;241m=\u001b[39m {}\n\u001b[1;32m----> 5\u001b[0m df\u001b[38;5;241m=\u001b[39mpd\u001b[38;5;241m.\u001b[39mDataFrame(\u001b[38;5;28;43mlist\u001b[39;49m\u001b[43m(\u001b[49m\u001b[43mdc\u001b[49m\u001b[38;5;241;43m.\u001b[39;49m\u001b[43mfind\u001b[49m\u001b[43m(\u001b[49m\u001b[43mquery\u001b[49m\u001b[43m,\u001b[49m\u001b[43mfiltro\u001b[49m\u001b[43m)\u001b[49m\u001b[43m)\u001b[49m)\n",
      "\u001b[1;31mTypeError\u001b[0m: 'list' object is not callable"
     ]
    }
   ],
   "source": [
    "import pandas as pd\n",
    "filtro = {'name': True,'deadpooled_year': True, 'founded_year':True, '_id': False}\n",
    "query = {}\n",
    "\n",
    "df=pd.DataFrame(list(dc.find(query,filtro)))"
   ]
  },
  {
   "cell_type": "code",
   "execution_count": 126,
   "metadata": {},
   "outputs": [
    {
     "data": {
      "text/html": [
       "<div>\n",
       "<style scoped>\n",
       "    .dataframe tbody tr th:only-of-type {\n",
       "        vertical-align: middle;\n",
       "    }\n",
       "\n",
       "    .dataframe tbody tr th {\n",
       "        vertical-align: top;\n",
       "    }\n",
       "\n",
       "    .dataframe thead th {\n",
       "        text-align: right;\n",
       "    }\n",
       "</style>\n",
       "<table border=\"1\" class=\"dataframe\">\n",
       "  <thead>\n",
       "    <tr style=\"text-align: right;\">\n",
       "      <th></th>\n",
       "      <th>level_0</th>\n",
       "      <th>index</th>\n",
       "      <th>name</th>\n",
       "      <th>founded_year</th>\n",
       "      <th>deadpooled_year</th>\n",
       "    </tr>\n",
       "  </thead>\n",
       "  <tbody>\n",
       "    <tr>\n",
       "      <th>0</th>\n",
       "      <td>0</td>\n",
       "      <td>0</td>\n",
       "      <td>Omnidrive</td>\n",
       "      <td>2005.0</td>\n",
       "      <td>2008</td>\n",
       "    </tr>\n",
       "    <tr>\n",
       "      <th>1</th>\n",
       "      <td>1</td>\n",
       "      <td>1</td>\n",
       "      <td>Babelgum</td>\n",
       "      <td>2007.0</td>\n",
       "      <td>2013</td>\n",
       "    </tr>\n",
       "    <tr>\n",
       "      <th>2</th>\n",
       "      <td>2</td>\n",
       "      <td>2</td>\n",
       "      <td>Sparter</td>\n",
       "      <td>2007.0</td>\n",
       "      <td>2008</td>\n",
       "    </tr>\n",
       "    <tr>\n",
       "      <th>3</th>\n",
       "      <td>3</td>\n",
       "      <td>3</td>\n",
       "      <td>Thoof</td>\n",
       "      <td>2006.0</td>\n",
       "      <td>2013</td>\n",
       "    </tr>\n",
       "    <tr>\n",
       "      <th>4</th>\n",
       "      <td>5</td>\n",
       "      <td>5</td>\n",
       "      <td>Wesabe</td>\n",
       "      <td>2005.0</td>\n",
       "      <td>2010</td>\n",
       "    </tr>\n",
       "    <tr>\n",
       "      <th>...</th>\n",
       "      <td>...</td>\n",
       "      <td>...</td>\n",
       "      <td>...</td>\n",
       "      <td>...</td>\n",
       "      <td>...</td>\n",
       "    </tr>\n",
       "    <tr>\n",
       "      <th>703</th>\n",
       "      <td>920</td>\n",
       "      <td>920</td>\n",
       "      <td>Bookrags</td>\n",
       "      <td>1999.0</td>\n",
       "      <td>1991</td>\n",
       "    </tr>\n",
       "    <tr>\n",
       "      <th>704</th>\n",
       "      <td>921</td>\n",
       "      <td>921</td>\n",
       "      <td>tribalX</td>\n",
       "      <td>2009.0</td>\n",
       "      <td>2010</td>\n",
       "    </tr>\n",
       "    <tr>\n",
       "      <th>705</th>\n",
       "      <td>922</td>\n",
       "      <td>922</td>\n",
       "      <td>Prolify</td>\n",
       "      <td>2002.0</td>\n",
       "      <td>2007</td>\n",
       "    </tr>\n",
       "    <tr>\n",
       "      <th>706</th>\n",
       "      <td>923</td>\n",
       "      <td>923</td>\n",
       "      <td>Advanced Power Projects</td>\n",
       "      <td>2009.0</td>\n",
       "      <td>2011</td>\n",
       "    </tr>\n",
       "    <tr>\n",
       "      <th>707</th>\n",
       "      <td>924</td>\n",
       "      <td>924</td>\n",
       "      <td>OfficialVirtualDJ</td>\n",
       "      <td>2009.0</td>\n",
       "      <td>2009</td>\n",
       "    </tr>\n",
       "  </tbody>\n",
       "</table>\n",
       "<p>708 rows × 5 columns</p>\n",
       "</div>"
      ],
      "text/plain": [
       "     level_0  index                     name  founded_year  deadpooled_year\n",
       "0          0      0                Omnidrive        2005.0             2008\n",
       "1          1      1                 Babelgum        2007.0             2013\n",
       "2          2      2                  Sparter        2007.0             2008\n",
       "3          3      3                    Thoof        2006.0             2013\n",
       "4          5      5                   Wesabe        2005.0             2010\n",
       "..       ...    ...                      ...           ...              ...\n",
       "703      920    920                 Bookrags        1999.0             1991\n",
       "704      921    921                  tribalX        2009.0             2010\n",
       "705      922    922                  Prolify        2002.0             2007\n",
       "706      923    923  Advanced Power Projects        2009.0             2011\n",
       "707      924    924        OfficialVirtualDJ        2009.0             2009\n",
       "\n",
       "[708 rows x 5 columns]"
      ]
     },
     "execution_count": 126,
     "metadata": {},
     "output_type": "execute_result"
    }
   ],
   "source": [
    "df.dropna(inplace=True)\n",
    "\n",
    "df = df.reset_index(drop = True)\n",
    "df"
   ]
  },
  {
   "cell_type": "code",
   "execution_count": 135,
   "metadata": {},
   "outputs": [],
   "source": [
    "list = []\n",
    "count = 0\n",
    "for i in df.deadpooled_year:\n",
    "    \n",
    "    if i < 50:\n",
    "        list.append(i)\n",
    "        count += 1\n",
    "    \n",
    "    elif i >=50 :\n",
    "        #print(int(df.founded_year[count]))\n",
    "        list.append(i - int(df.founded_year[count]))\n",
    "        count += 1\n",
    "        \n",
    "        \n",
    "        "
   ]
  },
  {
   "cell_type": "code",
   "execution_count": 137,
   "metadata": {},
   "outputs": [],
   "source": [
    "df['deadpooled_year'] = list"
   ]
  },
  {
   "cell_type": "code",
   "execution_count": 141,
   "metadata": {},
   "outputs": [
    {
     "data": {
      "text/html": [
       "<div>\n",
       "<style scoped>\n",
       "    .dataframe tbody tr th:only-of-type {\n",
       "        vertical-align: middle;\n",
       "    }\n",
       "\n",
       "    .dataframe tbody tr th {\n",
       "        vertical-align: top;\n",
       "    }\n",
       "\n",
       "    .dataframe thead th {\n",
       "        text-align: right;\n",
       "    }\n",
       "</style>\n",
       "<table border=\"1\" class=\"dataframe\">\n",
       "  <thead>\n",
       "    <tr style=\"text-align: right;\">\n",
       "      <th></th>\n",
       "      <th>level_0</th>\n",
       "      <th>index</th>\n",
       "      <th>name</th>\n",
       "      <th>founded_year</th>\n",
       "      <th>deadpooled_year</th>\n",
       "    </tr>\n",
       "  </thead>\n",
       "  <tbody>\n",
       "    <tr>\n",
       "      <th>0</th>\n",
       "      <td>0</td>\n",
       "      <td>0</td>\n",
       "      <td>Omnidrive</td>\n",
       "      <td>2005.0</td>\n",
       "      <td>3</td>\n",
       "    </tr>\n",
       "    <tr>\n",
       "      <th>1</th>\n",
       "      <td>1</td>\n",
       "      <td>1</td>\n",
       "      <td>Babelgum</td>\n",
       "      <td>2007.0</td>\n",
       "      <td>6</td>\n",
       "    </tr>\n",
       "    <tr>\n",
       "      <th>2</th>\n",
       "      <td>2</td>\n",
       "      <td>2</td>\n",
       "      <td>Sparter</td>\n",
       "      <td>2007.0</td>\n",
       "      <td>1</td>\n",
       "    </tr>\n",
       "    <tr>\n",
       "      <th>3</th>\n",
       "      <td>3</td>\n",
       "      <td>3</td>\n",
       "      <td>Thoof</td>\n",
       "      <td>2006.0</td>\n",
       "      <td>7</td>\n",
       "    </tr>\n",
       "    <tr>\n",
       "      <th>4</th>\n",
       "      <td>5</td>\n",
       "      <td>5</td>\n",
       "      <td>Wesabe</td>\n",
       "      <td>2005.0</td>\n",
       "      <td>5</td>\n",
       "    </tr>\n",
       "  </tbody>\n",
       "</table>\n",
       "</div>"
      ],
      "text/plain": [
       "   level_0  index       name  founded_year  deadpooled_year\n",
       "0        0      0  Omnidrive        2005.0                3\n",
       "1        1      1   Babelgum        2007.0                6\n",
       "2        2      2    Sparter        2007.0                1\n",
       "3        3      3      Thoof        2006.0                7\n",
       "4        5      5     Wesabe        2005.0                5"
      ]
     },
     "execution_count": 141,
     "metadata": {},
     "output_type": "execute_result"
    }
   ],
   "source": [
    "df.head()"
   ]
  },
  {
   "cell_type": "code",
   "execution_count": 139,
   "metadata": {},
   "outputs": [
    {
     "data": {
      "text/html": [
       "<div>\n",
       "<style scoped>\n",
       "    .dataframe tbody tr th:only-of-type {\n",
       "        vertical-align: middle;\n",
       "    }\n",
       "\n",
       "    .dataframe tbody tr th {\n",
       "        vertical-align: top;\n",
       "    }\n",
       "\n",
       "    .dataframe thead th {\n",
       "        text-align: right;\n",
       "    }\n",
       "</style>\n",
       "<table border=\"1\" class=\"dataframe\">\n",
       "  <thead>\n",
       "    <tr style=\"text-align: right;\">\n",
       "      <th></th>\n",
       "      <th>level_0</th>\n",
       "      <th>index</th>\n",
       "      <th>name</th>\n",
       "      <th>founded_year</th>\n",
       "      <th>deadpooled_year</th>\n",
       "    </tr>\n",
       "  </thead>\n",
       "  <tbody>\n",
       "    <tr>\n",
       "      <th>1</th>\n",
       "      <td>1</td>\n",
       "      <td>1</td>\n",
       "      <td>Babelgum</td>\n",
       "      <td>2007.0</td>\n",
       "      <td>6</td>\n",
       "    </tr>\n",
       "    <tr>\n",
       "      <th>3</th>\n",
       "      <td>3</td>\n",
       "      <td>3</td>\n",
       "      <td>Thoof</td>\n",
       "      <td>2006.0</td>\n",
       "      <td>7</td>\n",
       "    </tr>\n",
       "    <tr>\n",
       "      <th>4</th>\n",
       "      <td>5</td>\n",
       "      <td>5</td>\n",
       "      <td>Wesabe</td>\n",
       "      <td>2005.0</td>\n",
       "      <td>5</td>\n",
       "    </tr>\n",
       "    <tr>\n",
       "      <th>6</th>\n",
       "      <td>7</td>\n",
       "      <td>7</td>\n",
       "      <td>Stickam</td>\n",
       "      <td>2006.0</td>\n",
       "      <td>7</td>\n",
       "    </tr>\n",
       "    <tr>\n",
       "      <th>7</th>\n",
       "      <td>8</td>\n",
       "      <td>8</td>\n",
       "      <td>AllPeers</td>\n",
       "      <td>2004.0</td>\n",
       "      <td>4</td>\n",
       "    </tr>\n",
       "  </tbody>\n",
       "</table>\n",
       "</div>"
      ],
      "text/plain": [
       "   level_0  index      name  founded_year  deadpooled_year\n",
       "1        1      1  Babelgum        2007.0                6\n",
       "3        3      3     Thoof        2006.0                7\n",
       "4        5      5    Wesabe        2005.0                5\n",
       "6        7      7   Stickam        2006.0                7\n",
       "7        8      8  AllPeers        2004.0                4"
      ]
     },
     "execution_count": 139,
     "metadata": {},
     "output_type": "execute_result"
    }
   ],
   "source": [
    "df[df.deadpooled_year> 3].head()"
   ]
  },
  {
   "cell_type": "code",
   "execution_count": null,
   "metadata": {},
   "outputs": [],
   "source": []
  }
 ],
 "metadata": {
  "kernelspec": {
   "display_name": "Python 3 (ipykernel)",
   "language": "python",
   "name": "python3"
  },
  "language_info": {
   "codemirror_mode": {
    "name": "ipython",
    "version": 3
   },
   "file_extension": ".py",
   "mimetype": "text/x-python",
   "name": "python",
   "nbconvert_exporter": "python",
   "pygments_lexer": "ipython3",
   "version": "3.9.12"
  }
 },
 "nbformat": 4,
 "nbformat_minor": 2
}
