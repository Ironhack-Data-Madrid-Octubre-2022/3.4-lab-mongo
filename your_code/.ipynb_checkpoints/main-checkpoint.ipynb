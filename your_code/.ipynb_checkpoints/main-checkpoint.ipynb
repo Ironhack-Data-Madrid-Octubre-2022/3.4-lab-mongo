{
 "cells": [
  {
   "cell_type": "markdown",
   "metadata": {},
   "source": [
    "# Advanced Querying Mongo"
   ]
  },
  {
   "cell_type": "markdown",
   "metadata": {},
   "source": [
    "Importing libraries and setting up connection"
   ]
  },
  {
   "cell_type": "code",
   "execution_count": 1,
   "metadata": {},
   "outputs": [
    {
     "name": "stdout",
     "output_type": "stream",
     "text": [
      "Requirement already satisfied: pymongo in c:\\users\\nonito\\anaconda3\\lib\\site-packages (4.3.2)\n",
      "Requirement already satisfied: dnspython<3.0.0,>=1.16.0 in c:\\users\\nonito\\anaconda3\\lib\\site-packages (from pymongo) (2.2.1)\n",
      "Note: you may need to restart the kernel to use updated packages.\n"
     ]
    }
   ],
   "source": [
    "%pip install pymongo\n"
   ]
  },
  {
   "cell_type": "code",
   "execution_count": 2,
   "metadata": {},
   "outputs": [
    {
     "data": {
      "text/plain": [
       "MongoClient(host=['localhost:27017'], document_class=dict, tz_aware=False, connect=True)"
      ]
     },
     "execution_count": 2,
     "metadata": {},
     "output_type": "execute_result"
    }
   ],
   "source": [
    "from pymongo import MongoClient\n",
    "\n",
    "import warnings\n",
    "warnings.filterwarnings('ignore')\n",
    "\n",
    "client = MongoClient()\n",
    "\n",
    "str_conn='mongodb://localhost:27017'\n",
    "\n",
    "cursor=MongoClient(str_conn)\n",
    "\n",
    "cursor"
   ]
  },
  {
   "cell_type": "code",
   "execution_count": 3,
   "metadata": {},
   "outputs": [
    {
     "data": {
      "text/plain": [
       "Collection(Database(MongoClient(host=['localhost:27017'], document_class=dict, tz_aware=False, connect=True), 'companies'), 'companies')"
      ]
     },
     "execution_count": 3,
     "metadata": {},
     "output_type": "execute_result"
    }
   ],
   "source": [
    "db=cursor.companies\n",
    "\n",
    "colec=db.companies\n",
    "\n",
    "colec"
   ]
  },
  {
   "cell_type": "code",
   "execution_count": 4,
   "metadata": {
    "scrolled": true
   },
   "outputs": [
    {
     "data": {
      "text/plain": [
       "[{'_id': ObjectId('52cdef7c4bab8bd675297d8a'),\n",
       "  'name': 'Wetpaint',\n",
       "  'permalink': 'abc2',\n",
       "  'crunchbase_url': 'http://www.crunchbase.com/company/wetpaint',\n",
       "  'homepage_url': 'http://wetpaint-inc.com',\n",
       "  'blog_url': 'http://digitalquarters.net/',\n",
       "  'blog_feed_url': 'http://digitalquarters.net/feed/',\n",
       "  'twitter_username': 'BachelrWetpaint',\n",
       "  'category_code': 'web',\n",
       "  'number_of_employees': 47,\n",
       "  'founded_year': 2005,\n",
       "  'founded_month': 10,\n",
       "  'founded_day': 17,\n",
       "  'deadpooled_year': 1,\n",
       "  'tag_list': 'wiki, seattle, elowitz, media-industry, media-platform, social-distribution-system',\n",
       "  'alias_list': '',\n",
       "  'email_address': 'info@wetpaint.com',\n",
       "  'phone_number': '206.859.6300',\n",
       "  'description': 'Technology Platform Company',\n",
       "  'created_at': datetime.datetime(2007, 5, 25, 6, 51, 27),\n",
       "  'updated_at': 'Sun Dec 08 07:15:44 UTC 2013',\n",
       "  'overview': '<p>Wetpaint is a technology platform company that uses its proprietary state-of-the-art technology and expertise in social media to build and monetize audiences for digital publishers. Wetpaint’s own online property, Wetpaint Entertainment, an entertainment news site that attracts more than 12 million unique visitors monthly and has over 2 million Facebook fans, is a proof point to the company’s success in building and engaging audiences. Media companies can license Wetpaint’s platform which includes a dynamic playbook tailored to their individual needs and comprehensive training. Founded by Internet pioneer Ben Elowitz, and with offices in New York and Seattle, Wetpaint is backed by Accel Partners, the investors behind Facebook.</p>',\n",
       "  'image': {'available_sizes': [[[150, 75],\n",
       "     'assets/images/resized/0000/3604/3604v14-max-150x150.jpg'],\n",
       "    [[250, 125], 'assets/images/resized/0000/3604/3604v14-max-250x250.jpg'],\n",
       "    [[450, 225], 'assets/images/resized/0000/3604/3604v14-max-450x450.jpg']]},\n",
       "  'products': [{'name': 'Wikison Wetpaint', 'permalink': 'wetpaint-wiki'},\n",
       "   {'name': 'Wetpaint Social Distribution System',\n",
       "    'permalink': 'wetpaint-social-distribution-system'}],\n",
       "  'relationships': [{'is_past': False,\n",
       "    'title': 'Co-Founder and VP, Social and Audience Development',\n",
       "    'person': {'first_name': 'Michael',\n",
       "     'last_name': 'Howell',\n",
       "     'permalink': 'michael-howell'}},\n",
       "   {'is_past': False,\n",
       "    'title': 'Co-Founder/CEO/Board of Directors',\n",
       "    'person': {'first_name': 'Ben',\n",
       "     'last_name': 'Elowitz',\n",
       "     'permalink': 'ben-elowitz'}},\n",
       "   {'is_past': False,\n",
       "    'title': 'COO/Board of Directors',\n",
       "    'person': {'first_name': 'Rob',\n",
       "     'last_name': 'Grady',\n",
       "     'permalink': 'rob-grady'}},\n",
       "   {'is_past': False,\n",
       "    'title': 'SVP, Strategy and Business Development',\n",
       "    'person': {'first_name': 'Chris',\n",
       "     'last_name': 'Kollas',\n",
       "     'permalink': 'chris-kollas'}},\n",
       "   {'is_past': False,\n",
       "    'title': 'Board',\n",
       "    'person': {'first_name': 'Theresia',\n",
       "     'last_name': 'Ranzetta',\n",
       "     'permalink': 'theresia-ranzetta'}},\n",
       "   {'is_past': False,\n",
       "    'title': 'Board Member',\n",
       "    'person': {'first_name': 'Gus',\n",
       "     'last_name': 'Tai',\n",
       "     'permalink': 'gus-tai'}},\n",
       "   {'is_past': False,\n",
       "    'title': 'Board',\n",
       "    'person': {'first_name': 'Len',\n",
       "     'last_name': 'Jordan',\n",
       "     'permalink': 'len-jordan'}},\n",
       "   {'is_past': False,\n",
       "    'title': 'Head of Technology and Product',\n",
       "    'person': {'first_name': 'Alex',\n",
       "     'last_name': 'Weinstein',\n",
       "     'permalink': 'alex-weinstein'}},\n",
       "   {'is_past': True,\n",
       "    'title': 'CFO',\n",
       "    'person': {'first_name': 'Bert',\n",
       "     'last_name': 'Hogue',\n",
       "     'permalink': 'bert-hogue'}},\n",
       "   {'is_past': True,\n",
       "    'title': 'CFO/ CRO',\n",
       "    'person': {'first_name': 'Brian',\n",
       "     'last_name': 'Watkins',\n",
       "     'permalink': 'brian-watkins'}},\n",
       "   {'is_past': True,\n",
       "    'title': 'Senior Vice President, Marketing',\n",
       "    'person': {'first_name': 'Rob',\n",
       "     'last_name': 'Grady',\n",
       "     'permalink': 'rob-grady'}},\n",
       "   {'is_past': True,\n",
       "    'title': 'VP, Technology and Product',\n",
       "    'person': {'first_name': 'Werner',\n",
       "     'last_name': 'Koepf',\n",
       "     'permalink': 'werner-koepf'}},\n",
       "   {'is_past': True,\n",
       "    'title': 'VP Marketing',\n",
       "    'person': {'first_name': 'Kevin',\n",
       "     'last_name': 'Flaherty',\n",
       "     'permalink': 'kevin-flaherty'}},\n",
       "   {'is_past': True,\n",
       "    'title': 'VP User Experience',\n",
       "    'person': {'first_name': 'Alex',\n",
       "     'last_name': 'Berg',\n",
       "     'permalink': 'alex-berg'}},\n",
       "   {'is_past': True,\n",
       "    'title': 'VP Engineering',\n",
       "    'person': {'first_name': 'Steve',\n",
       "     'last_name': 'McQuade',\n",
       "     'permalink': 'steve-mcquade'}},\n",
       "   {'is_past': True,\n",
       "    'title': 'Executive Editor',\n",
       "    'person': {'first_name': 'Susan',\n",
       "     'last_name': 'Mulcahy',\n",
       "     'permalink': 'susan-mulcahy'}},\n",
       "   {'is_past': True,\n",
       "    'title': 'VP Business Development',\n",
       "    'person': {'first_name': 'Chris',\n",
       "     'last_name': 'Kollas',\n",
       "     'permalink': 'chris-kollas'}}],\n",
       "  'competitions': [{'competitor': {'name': 'Wikia', 'permalink': 'wikia'}},\n",
       "   {'competitor': {'name': 'JotSpot', 'permalink': 'jotspot'}},\n",
       "   {'competitor': {'name': 'Socialtext', 'permalink': 'socialtext'}},\n",
       "   {'competitor': {'name': 'Ning by Glam Media', 'permalink': 'ning'}},\n",
       "   {'competitor': {'name': 'Soceeo', 'permalink': 'soceeo'}},\n",
       "   {'competitor': {'name': 'Yola', 'permalink': 'yola'}},\n",
       "   {'competitor': {'name': 'SocialGO', 'permalink': 'socialgo'}},\n",
       "   {'competitor': {'name': 'IslamNor', 'permalink': 'islamnor'}}],\n",
       "  'providerships': [],\n",
       "  'total_money_raised': '$39.8M',\n",
       "  'funding_rounds': [{'id': 888,\n",
       "    'round_code': 'a',\n",
       "    'source_url': 'http://seattlepi.nwsource.com/business/246734_wiki02.html',\n",
       "    'source_description': '',\n",
       "    'raised_amount': 5250000,\n",
       "    'raised_currency_code': 'USD',\n",
       "    'funded_year': 2005,\n",
       "    'funded_month': 10,\n",
       "    'funded_day': 1,\n",
       "    'investments': [{'company': None,\n",
       "      'financial_org': {'name': 'Frazier Technology Ventures',\n",
       "       'permalink': 'frazier-technology-ventures'},\n",
       "      'person': None},\n",
       "     {'company': None,\n",
       "      'financial_org': {'name': 'Trinity Ventures',\n",
       "       'permalink': 'trinity-ventures'},\n",
       "      'person': None}]},\n",
       "   {'id': 889,\n",
       "    'round_code': 'b',\n",
       "    'source_url': 'http://pulse2.com/2007/01/09/wiki-builder-website-wetpaint-welcomes-95m-funding/',\n",
       "    'source_description': '',\n",
       "    'raised_amount': 9500000,\n",
       "    'raised_currency_code': 'USD',\n",
       "    'funded_year': 2007,\n",
       "    'funded_month': 1,\n",
       "    'funded_day': 1,\n",
       "    'investments': [{'company': None,\n",
       "      'financial_org': {'name': 'Accel Partners',\n",
       "       'permalink': 'accel-partners'},\n",
       "      'person': None},\n",
       "     {'company': None,\n",
       "      'financial_org': {'name': 'Frazier Technology Ventures',\n",
       "       'permalink': 'frazier-technology-ventures'},\n",
       "      'person': None},\n",
       "     {'company': None,\n",
       "      'financial_org': {'name': 'Trinity Ventures',\n",
       "       'permalink': 'trinity-ventures'},\n",
       "      'person': None}]},\n",
       "   {'id': 2312,\n",
       "    'round_code': 'c',\n",
       "    'source_url': 'http://www.accel.com/news/news_one_up.php?news_id=185',\n",
       "    'source_description': 'Accel',\n",
       "    'raised_amount': 25000000,\n",
       "    'raised_currency_code': 'USD',\n",
       "    'funded_year': 2008,\n",
       "    'funded_month': 5,\n",
       "    'funded_day': 19,\n",
       "    'investments': [{'company': None,\n",
       "      'financial_org': {'name': 'DAG Ventures', 'permalink': 'dag-ventures'},\n",
       "      'person': None},\n",
       "     {'company': None,\n",
       "      'financial_org': {'name': 'Accel Partners',\n",
       "       'permalink': 'accel-partners'},\n",
       "      'person': None},\n",
       "     {'company': None,\n",
       "      'financial_org': {'name': 'Trinity Ventures',\n",
       "       'permalink': 'trinity-ventures'},\n",
       "      'person': None},\n",
       "     {'company': None,\n",
       "      'financial_org': {'name': 'Frazier Technology Ventures',\n",
       "       'permalink': 'frazier-technology-ventures'},\n",
       "      'person': None}]}],\n",
       "  'investments': [],\n",
       "  'acquisition': {'price_amount': 30000000,\n",
       "   'price_currency_code': 'USD',\n",
       "   'term_code': 'cash_and_stock',\n",
       "   'source_url': 'http://allthingsd.com/20131216/viggle-tries-to-bulk-up-its-social-tv-business-by-buying-wetpaint/?mod=atdtweet',\n",
       "   'source_description': ' Viggle Tries to Bulk Up Its Social TV Business by Buying Wetpaint',\n",
       "   'acquired_year': 2013,\n",
       "   'acquired_month': 12,\n",
       "   'acquired_day': 16,\n",
       "   'acquiring_company': {'name': 'Viggle', 'permalink': 'viggle'}},\n",
       "  'acquisitions': [],\n",
       "  'offices': [{'description': '',\n",
       "    'address1': '710 - 2nd Avenue',\n",
       "    'address2': 'Suite 1100',\n",
       "    'zip_code': '98104',\n",
       "    'city': 'Seattle',\n",
       "    'state_code': 'WA',\n",
       "    'country_code': 'USA',\n",
       "    'latitude': 47.603122,\n",
       "    'longitude': -122.333253},\n",
       "   {'description': '',\n",
       "    'address1': '270 Lafayette Street',\n",
       "    'address2': 'Suite 505',\n",
       "    'zip_code': '10012',\n",
       "    'city': 'New York',\n",
       "    'state_code': 'NY',\n",
       "    'country_code': 'USA',\n",
       "    'latitude': 40.7237306,\n",
       "    'longitude': -73.9964312}],\n",
       "  'milestones': [{'id': 5869,\n",
       "    'description': \"Wetpaint named in Lead411's Hottest Seattle Companies list\",\n",
       "    'stoned_year': 2010,\n",
       "    'stoned_month': 6,\n",
       "    'stoned_day': 8,\n",
       "    'source_url': 'http://www.lead411.com/seattle-companies.html',\n",
       "    'source_text': None,\n",
       "    'source_description': 'LEAD411 LAUNCHES \"HOTTEST SEATTLE COMPANIES\" AWARDS',\n",
       "    'stoneable_type': 'Company',\n",
       "    'stoned_value': None,\n",
       "    'stoned_value_type': None,\n",
       "    'stoned_acquirer': None,\n",
       "    'stoneable': {'name': 'Wetpaint', 'permalink': 'wetpaint'}},\n",
       "   {'id': 8702,\n",
       "    'description': 'Site-Builder Wetpaint Makes One For Itself, Using the Demand Media Playbook',\n",
       "    'stoned_year': 2010,\n",
       "    'stoned_month': 9,\n",
       "    'stoned_day': 6,\n",
       "    'source_url': 'http://mediamemo.allthingsd.com/20100906/site-builder-wetpaint-makes-one-for-itself-using-the-demand-media-playbook/',\n",
       "    'source_text': None,\n",
       "    'source_description': 'All Things D',\n",
       "    'stoneable_type': 'Company',\n",
       "    'stoned_value': None,\n",
       "    'stoned_value_type': None,\n",
       "    'stoned_acquirer': None,\n",
       "    'stoneable': {'name': 'Wetpaint', 'permalink': 'wetpaint'}}],\n",
       "  'video_embeds': [],\n",
       "  'screenshots': [{'available_sizes': [[[150, 86],\n",
       "      'assets/images/resized/0016/0929/160929v2-max-150x150.png'],\n",
       "     [[250, 143], 'assets/images/resized/0016/0929/160929v2-max-250x250.png'],\n",
       "     [[450, 258], 'assets/images/resized/0016/0929/160929v2-max-450x450.png']],\n",
       "    'attribution': None}],\n",
       "  'external_links': [{'external_url': 'http://www.geekwire.com/2011/rewind-ben-elowitz-wetpaint-ceo-building-type-media-company',\n",
       "    'title': 'GeekWire interview: Rewind - Ben Elowitz, Wetpaint CEO, on building a new type of media company'},\n",
       "   {'external_url': 'http://techcrunch.com/2012/06/17/search-and-social-how-two-will-soon-become-one/',\n",
       "    'title': 'Guest post by CEO Ben Elowitz in TechCrunch'},\n",
       "   {'external_url': 'http://allthingsd.com/20120516/what-to-expect-when-facebook-is-expecting-five-predictions-for-facebooks-first-public-year/',\n",
       "    'title': 'Guest post by CEO Ben Elowitz in AllThingsD'},\n",
       "   {'external_url': 'http://adage.com/article/digitalnext/facebook-biggest-player-advertising-s-540-billion-world/235708/',\n",
       "    'title': 'Guest post by CEO Ben Elowitz in AdAge'},\n",
       "   {'external_url': 'http://www.businessinsider.com/facebook-captures-14-percent-of-our-online-attention-but-only-4-percent-of-ad-spending-online-2012-6',\n",
       "    'title': 'Guest post by CEO Ben Elowitz in Business Insider'},\n",
       "   {'external_url': 'http://allfacebook.com/wetpaint-media-data_b75963',\n",
       "    'title': 'AllFacebook coverage of Wetpaint'},\n",
       "   {'external_url': 'http://adage.com/article/digital/celeb-site-wetpaint-shows-media-profit-facebook/237828/',\n",
       "    'title': 'Profile of Wetpaint in Ad Age'},\n",
       "   {'external_url': 'http://allthingsd.com/20121018/how-to-boost-your-facebook-traffic-tips-and-tricks-from-wetpaint/',\n",
       "    'title': 'Interview with Wetpaint CEO Ben Elowitz in All Things D'},\n",
       "   {'external_url': 'http://www.xconomy.com/seattle/2012/10/19/wetpaint-starts-licensing-its-facebook-based-media-distribution-tech/',\n",
       "    'title': 'Profile of Wetpaint in Xconomy'}],\n",
       "  'partners': []}]"
      ]
     },
     "execution_count": 4,
     "metadata": {},
     "output_type": "execute_result"
    }
   ],
   "source": [
    "list(colec.find().limit(1))"
   ]
  },
  {
   "cell_type": "markdown",
   "metadata": {},
   "source": [
    "### 1. All the companies whose name match 'Babelgum'. Retrieve only their `name` field."
   ]
  },
  {
   "cell_type": "code",
   "execution_count": 5,
   "metadata": {},
   "outputs": [
    {
     "data": {
      "text/plain": [
       "[{'name': 'Babelgum'}]"
      ]
     },
     "execution_count": 5,
     "metadata": {},
     "output_type": "execute_result"
    }
   ],
   "source": [
    "query={'name': 'Babelgum'}\n",
    "\n",
    "filtro={'name': True, '_id': False}\n",
    "\n",
    "\n",
    "list(colec.find(query, filtro).limit(10))"
   ]
  },
  {
   "cell_type": "markdown",
   "metadata": {},
   "source": [
    "### 2. All the companies that have more than 5000 employees. Limit the search to 20 companies and sort them by **number of employees**."
   ]
  },
  {
   "cell_type": "code",
   "execution_count": 6,
   "metadata": {},
   "outputs": [
    {
     "data": {
      "text/plain": [
       "[{'name': 'Siemens', 'number_of_employees': 405000},\n",
       " {'name': 'IBM', 'number_of_employees': 388000},\n",
       " {'name': 'Toyota', 'number_of_employees': 320000},\n",
       " {'name': 'PayPal', 'number_of_employees': 300000},\n",
       " {'name': 'Nippon Telegraph and Telephone Corporation',\n",
       "  'number_of_employees': 227000},\n",
       " {'name': 'Samsung Electronics', 'number_of_employees': 221726},\n",
       " {'name': 'Accenture', 'number_of_employees': 205000},\n",
       " {'name': 'Tata Consultancy Services', 'number_of_employees': 200300},\n",
       " {'name': 'Flextronics International', 'number_of_employees': 200000},\n",
       " {'name': 'Safeway', 'number_of_employees': 186000},\n",
       " {'name': 'Sony', 'number_of_employees': 180500},\n",
       " {'name': 'LG', 'number_of_employees': 177000},\n",
       " {'name': 'Ford', 'number_of_employees': 171000},\n",
       " {'name': 'Boeing', 'number_of_employees': 160000},\n",
       " {'name': 'Digital Equipment Corporation', 'number_of_employees': 140000},\n",
       " {'name': 'Nokia', 'number_of_employees': 125000},\n",
       " {'name': 'MItsubishi Electric', 'number_of_employees': 107000},\n",
       " {'name': 'MItsubishi Electric', 'number_of_employees': 107000},\n",
       " {'name': 'Comcast', 'number_of_employees': 100000},\n",
       " {'name': 'Bertelsmann', 'number_of_employees': 100000}]"
      ]
     },
     "execution_count": 6,
     "metadata": {},
     "output_type": "execute_result"
    }
   ],
   "source": [
    "query={'number_of_employees': {'$gt': 5000}}\n",
    "\n",
    "filtro={'name': True, 'number_of_employees': True, '_id': False}\n",
    "\n",
    "\n",
    "list(colec.find(query, filtro).limit(20).sort('number_of_employees', -1))"
   ]
  },
  {
   "cell_type": "markdown",
   "metadata": {},
   "source": [
    "### 3. All the companies founded between 2000 and 2005, both years included. Retrieve only the `name` and `founded_year` fields."
   ]
  },
  {
   "cell_type": "code",
   "execution_count": 7,
   "metadata": {},
   "outputs": [
    {
     "data": {
      "text/plain": [
       "[{'name': 'Wetpaint', 'founded_year': 2005},\n",
       " {'name': 'Zoho', 'founded_year': 2005},\n",
       " {'name': 'Digg', 'founded_year': 2004},\n",
       " {'name': 'Facebook', 'founded_year': 2004},\n",
       " {'name': 'Omnidrive', 'founded_year': 2005},\n",
       " {'name': 'StumbleUpon', 'founded_year': 2002},\n",
       " {'name': 'Gizmoz', 'founded_year': 2003},\n",
       " {'name': 'Helio', 'founded_year': 2005},\n",
       " {'name': 'Plaxo', 'founded_year': 2002},\n",
       " {'name': 'Technorati', 'founded_year': 2002}]"
      ]
     },
     "execution_count": 7,
     "metadata": {},
     "output_type": "execute_result"
    }
   ],
   "source": [
    "query={'$and': \n",
    "       [{'founded_year': {'$gte': 2000} },{'founded_year': {'$lte': 2005}}]\n",
    "       }\n",
    "\n",
    "filtro={'name': True, 'founded_year': True, '_id': False}\n",
    "\n",
    "\n",
    "list(colec.find(query, filtro).limit(10))"
   ]
  },
  {
   "cell_type": "markdown",
   "metadata": {},
   "source": [
    "### 4. All the companies that had a Valuation Amount of more than 100.000.000 and have been founded before 2010. Retrieve only the `name` and `ipo` fields."
   ]
  },
  {
   "cell_type": "code",
   "execution_count": 8,
   "metadata": {},
   "outputs": [
    {
     "data": {
      "text/plain": [
       "[{'name': 'Facebook',\n",
       "  'ipo': {'valuation_amount': 104000000000,\n",
       "   'valuation_currency_code': 'USD',\n",
       "   'pub_year': 2012,\n",
       "   'pub_month': 5,\n",
       "   'pub_day': 18,\n",
       "   'stock_symbol': 'NASDAQ:FB'}},\n",
       " {'name': 'Twitter',\n",
       "  'ipo': {'valuation_amount': 18100000000,\n",
       "   'valuation_currency_code': 'USD',\n",
       "   'pub_year': 2013,\n",
       "   'pub_month': 11,\n",
       "   'pub_day': 7,\n",
       "   'stock_symbol': 'NYSE:TWTR'}},\n",
       " {'name': 'Yelp',\n",
       "  'ipo': {'valuation_amount': 1300000000,\n",
       "   'valuation_currency_code': 'USD',\n",
       "   'pub_year': 2012,\n",
       "   'pub_month': 3,\n",
       "   'pub_day': 2,\n",
       "   'stock_symbol': 'NYSE:YELP'}}]"
      ]
     },
     "execution_count": 8,
     "metadata": {},
     "output_type": "execute_result"
    }
   ],
   "source": [
    "query={'$and': \n",
    "       [{'founded_year': {'$lt': 2010} },{'ipo.valuation_amount': {'$gt': 1e8}}]\n",
    "       }\n",
    "\n",
    "filtro={'name': True, 'ipo': True, '_id': False}\n",
    "\n",
    "\n",
    "list(colec.find(query, filtro).limit(3))"
   ]
  },
  {
   "cell_type": "markdown",
   "metadata": {},
   "source": [
    "### 5. All the companies that have less than 1000 employees and have been founded before 2005. Order them by the number of employees and limit the search to 10 companies."
   ]
  },
  {
   "cell_type": "code",
   "execution_count": 9,
   "metadata": {},
   "outputs": [
    {
     "data": {
      "text/plain": [
       "[{'name': 'Infinera Corporation',\n",
       "  'number_of_employees': 974,\n",
       "  'founded_year': 2000},\n",
       " {'name': 'NorthPoint Communications Group',\n",
       "  'number_of_employees': 948,\n",
       "  'founded_year': 1997},\n",
       " {'name': '888 Holdings', 'number_of_employees': 931, 'founded_year': 1997},\n",
       " {'name': 'Forrester Research',\n",
       "  'number_of_employees': 903,\n",
       "  'founded_year': 1983},\n",
       " {'name': 'SonicWALL', 'number_of_employees': 900, 'founded_year': 1991},\n",
       " {'name': 'Webmetrics', 'number_of_employees': 900, 'founded_year': 1999},\n",
       " {'name': 'Cornerstone OnDemand',\n",
       "  'number_of_employees': 881,\n",
       "  'founded_year': 1999},\n",
       " {'name': 'Mozilla', 'number_of_employees': 800, 'founded_year': 1998},\n",
       " {'name': 'Buongiorno', 'number_of_employees': 800, 'founded_year': 1999},\n",
       " {'name': 'Yelp', 'number_of_employees': 800, 'founded_year': 2004}]"
      ]
     },
     "execution_count": 9,
     "metadata": {},
     "output_type": "execute_result"
    }
   ],
   "source": [
    "query={'$and': \n",
    "       [{'founded_year': {'$lt': 2005} },{'number_of_employees': {'$lt': 1e3}}]\n",
    "       }\n",
    "\n",
    "filtro={'name': True, 'number_of_employees': True, '_id': False, 'founded_year': True}\n",
    "\n",
    "\n",
    "list(colec.find(query, filtro).limit(10).sort('number_of_employees', -1))"
   ]
  },
  {
   "cell_type": "markdown",
   "metadata": {},
   "source": [
    "### 6. All the companies that don't include the `partners` field."
   ]
  },
  {
   "cell_type": "code",
   "execution_count": 10,
   "metadata": {},
   "outputs": [
    {
     "data": {
      "text/plain": [
       "[]"
      ]
     },
     "execution_count": 10,
     "metadata": {},
     "output_type": "execute_result"
    }
   ],
   "source": [
    "query={'partners': {'$exists': False}}\n",
    "\n",
    "\n",
    "filtro={'name': True, '_id': False }\n",
    "\n",
    "\n",
    "list(colec.find(query, filtro).limit(10))\n",
    "\n",
    "# El campo partners existe en todos, aunque estén vacíos o contengan datos, pero existe."
   ]
  },
  {
   "cell_type": "markdown",
   "metadata": {},
   "source": [
    "### 7. All the companies that have a null type of value on the `category_code` field."
   ]
  },
  {
   "cell_type": "code",
   "execution_count": 11,
   "metadata": {},
   "outputs": [
    {
     "data": {
      "text/plain": [
       "[{'name': 'Collective'},\n",
       " {'name': 'Snimmer'},\n",
       " {'name': 'KoolIM'},\n",
       " {'name': 'Level9 Media'},\n",
       " {'name': 'VidKing'},\n",
       " {'name': 'Drigg'},\n",
       " {'name': 'SpaceTime'},\n",
       " {'name': 'Touch Clarity'},\n",
       " {'name': 'MMDAYS'},\n",
       " {'name': 'Inside Group'}]"
      ]
     },
     "execution_count": 11,
     "metadata": {},
     "output_type": "execute_result"
    }
   ],
   "source": [
    "query={'category_code': None}\n",
    "\n",
    "filtro={'name': True, '_id': False,}\n",
    "\n",
    "\n",
    "list(colec.find(query, filtro).limit(10))"
   ]
  },
  {
   "cell_type": "markdown",
   "metadata": {},
   "source": [
    "### 8. All the companies that have at least 100 employees but less than 1000. Retrieve only the `name` and `number of employees` fields."
   ]
  },
  {
   "cell_type": "code",
   "execution_count": 12,
   "metadata": {},
   "outputs": [
    {
     "data": {
      "text/plain": [
       "[{'name': 'Sonus Networks', 'number_of_employees': 1000},\n",
       " {'name': 'Telenav', 'number_of_employees': 1000},\n",
       " {'name': 'ERG Transit Systems', 'number_of_employees': 1000},\n",
       " {'name': 'Akamai Technologies', 'number_of_employees': 1000},\n",
       " {'name': 'Omniture', 'number_of_employees': 1000},\n",
       " {'name': 'Antal International', 'number_of_employees': 1000},\n",
       " {'name': 'Gumtree', 'number_of_employees': 1000},\n",
       " {'name': 'SK Net Service Company Ltd', 'number_of_employees': 1000},\n",
       " {'name': 'Yatra online', 'number_of_employees': 1000},\n",
       " {'name': 'Yodle', 'number_of_employees': 1000}]"
      ]
     },
     "execution_count": 12,
     "metadata": {},
     "output_type": "execute_result"
    }
   ],
   "source": [
    "query={'number_of_employees': {'$lte': 1000} }       \n",
    "\n",
    "filtro={'name': True, 'number_of_employees': True, '_id': False}\n",
    "\n",
    "\n",
    "list(colec.find(query, filtro).limit(10).sort('number_of_employees', -1))"
   ]
  },
  {
   "cell_type": "markdown",
   "metadata": {},
   "source": [
    "### 9. Order all the companies by their IPO price in a descending order."
   ]
  },
  {
   "cell_type": "code",
   "execution_count": 13,
   "metadata": {},
   "outputs": [
    {
     "data": {
      "text/plain": [
       "[{'name': 'GREE',\n",
       "  'ipo': {'valuation_amount': 108960000000,\n",
       "   'valuation_currency_code': 'JPY',\n",
       "   'pub_year': 2008,\n",
       "   'pub_month': 12,\n",
       "   'pub_day': 17,\n",
       "   'stock_symbol': '3632'}},\n",
       " {'name': 'Facebook',\n",
       "  'ipo': {'valuation_amount': 104000000000,\n",
       "   'valuation_currency_code': 'USD',\n",
       "   'pub_year': 2012,\n",
       "   'pub_month': 5,\n",
       "   'pub_day': 18,\n",
       "   'stock_symbol': 'NASDAQ:FB'}},\n",
       " {'name': 'Amazon',\n",
       "  'ipo': {'valuation_amount': 100000000000,\n",
       "   'valuation_currency_code': 'USD',\n",
       "   'pub_year': 1997,\n",
       "   'pub_month': 5,\n",
       "   'pub_day': None,\n",
       "   'stock_symbol': 'NASDAQ:AMZN'}},\n",
       " {'name': 'Twitter',\n",
       "  'ipo': {'valuation_amount': 18100000000,\n",
       "   'valuation_currency_code': 'USD',\n",
       "   'pub_year': 2013,\n",
       "   'pub_month': 11,\n",
       "   'pub_day': 7,\n",
       "   'stock_symbol': 'NYSE:TWTR'}},\n",
       " {'name': 'Groupon',\n",
       "  'ipo': {'valuation_amount': 12800000000,\n",
       "   'valuation_currency_code': 'USD',\n",
       "   'pub_year': 2011,\n",
       "   'pub_month': 11,\n",
       "   'pub_day': 7,\n",
       "   'stock_symbol': 'NASDAQ:GRPN'}}]"
      ]
     },
     "execution_count": 13,
     "metadata": {},
     "output_type": "execute_result"
    }
   ],
   "source": [
    "filtro={'name': True, 'ipo': True, '_id': False}\n",
    "\n",
    "list(colec.find('',filtro).sort('ipo.valuation_amount',-1).limit(5))"
   ]
  },
  {
   "cell_type": "markdown",
   "metadata": {},
   "source": [
    "### 10. Retrieve the 10 companies with more employees, order by the `number of employees`"
   ]
  },
  {
   "cell_type": "code",
   "execution_count": 14,
   "metadata": {},
   "outputs": [
    {
     "data": {
      "text/plain": [
       "[{'name': 'Siemens', 'number_of_employees': 405000},\n",
       " {'name': 'IBM', 'number_of_employees': 388000},\n",
       " {'name': 'Toyota', 'number_of_employees': 320000},\n",
       " {'name': 'PayPal', 'number_of_employees': 300000},\n",
       " {'name': 'Nippon Telegraph and Telephone Corporation',\n",
       "  'number_of_employees': 227000},\n",
       " {'name': 'Samsung Electronics', 'number_of_employees': 221726},\n",
       " {'name': 'Accenture', 'number_of_employees': 205000},\n",
       " {'name': 'Tata Consultancy Services', 'number_of_employees': 200300},\n",
       " {'name': 'Flextronics International', 'number_of_employees': 200000},\n",
       " {'name': 'Safeway', 'number_of_employees': 186000}]"
      ]
     },
     "execution_count": 14,
     "metadata": {},
     "output_type": "execute_result"
    }
   ],
   "source": [
    "filtro={'name': True, 'number_of_employees': True, '_id': False}\n",
    "\n",
    "\n",
    "list(colec.find('', filtro).limit(10).sort('number_of_employees', -1))"
   ]
  },
  {
   "cell_type": "markdown",
   "metadata": {},
   "source": [
    "### 11. All the companies founded on the second semester of the year. Limit your search to 1000 companies."
   ]
  },
  {
   "cell_type": "code",
   "execution_count": 15,
   "metadata": {},
   "outputs": [
    {
     "data": {
      "text/plain": [
       "[{'name': 'Wetpaint'},\n",
       " {'name': 'Zoho'},\n",
       " {'name': 'Digg'},\n",
       " {'name': 'Omnidrive'},\n",
       " {'name': 'eBay'},\n",
       " {'name': 'Joost'},\n",
       " {'name': 'Plaxo'},\n",
       " {'name': 'Powerset'},\n",
       " {'name': 'Kyte'},\n",
       " {'name': 'Thoof'}]"
      ]
     },
     "execution_count": 15,
     "metadata": {},
     "output_type": "execute_result"
    }
   ],
   "source": [
    "query={'founded_month': {'$gte': 7} }       \n",
    "\n",
    "filtro={'name': True, '_id': False}\n",
    "\n",
    "\n",
    "list(colec.find(query, filtro).limit(10))\n",
    "\n",
    "#Mil me parece too much"
   ]
  },
  {
   "cell_type": "markdown",
   "metadata": {},
   "source": [
    "### 12. All the companies founded before 2000 that have an acquisition amount of more than 10.000.00"
   ]
  },
  {
   "cell_type": "code",
   "execution_count": 16,
   "metadata": {},
   "outputs": [
    {
     "data": {
      "text/plain": [
       "[{'name': 'BEA Systems', 'acquisition': {'price_amount': 8500000000}},\n",
       " {'name': 'Navteq', 'acquisition': {'price_amount': 8100000000}},\n",
       " {'name': 'Pixar', 'acquisition': {'price_amount': 7400000000}}]"
      ]
     },
     "execution_count": 16,
     "metadata": {},
     "output_type": "execute_result"
    }
   ],
   "source": [
    "query={'$and': \n",
    "       [{'founded_year': {'$lt': 2000} },{'acquisition.price_amount': {'$gte': 1e7}}]\n",
    "       }\n",
    "\n",
    "filtro={'name': True, 'acquisition.price_amount': True, '_id': False}\n",
    "\n",
    "\n",
    "list(colec.find(query, filtro).limit(3).sort('acquisition.price_amount', -1))"
   ]
  },
  {
   "cell_type": "markdown",
   "metadata": {},
   "source": [
    "### 13. All the companies that have been acquired after 2010, order by the acquisition amount, and retrieve only their `name` and `acquisition` field."
   ]
  },
  {
   "cell_type": "code",
   "execution_count": 17,
   "metadata": {},
   "outputs": [
    {
     "data": {
      "text/plain": [
       "[{'name': 'T-Mobile',\n",
       "  'acquisition': {'price_amount': 39000000000,\n",
       "   'price_currency_code': 'USD',\n",
       "   'term_code': None,\n",
       "   'source_url': 'http://techcrunch.com/2011/03/20/in-the-race-for-more-spectrum-att-is-acquiring-t-mobile-for-39-billion/',\n",
       "   'source_description': 'In The Race For More Spectrum, AT&T Is Acquiring T-Mobile For $39 Billion',\n",
       "   'acquired_year': 2011,\n",
       "   'acquired_month': 3,\n",
       "   'acquired_day': 20,\n",
       "   'acquiring_company': {'name': 'AT&T', 'permalink': 'at-t'}}},\n",
       " {'name': 'Goodrich Corporation',\n",
       "  'acquisition': {'price_amount': 18400000000,\n",
       "   'price_currency_code': 'USD',\n",
       "   'term_code': None,\n",
       "   'source_url': 'http://www.masshightech.com/stories/2011/09/19/daily37-UTC-shells-out-184-billion-for-Goodrich.html',\n",
       "   'source_description': 'UTC shells out $18.4 billion for Goodrich',\n",
       "   'acquired_year': 2011,\n",
       "   'acquired_month': 9,\n",
       "   'acquired_day': 22,\n",
       "   'acquiring_company': {'name': 'United Technologies',\n",
       "    'permalink': 'united-technologies'}}},\n",
       " {'name': 'LSI',\n",
       "  'acquisition': {'price_amount': 6600000000,\n",
       "   'price_currency_code': 'USD',\n",
       "   'term_code': 'cash',\n",
       "   'source_url': 'http://dealbook.nytimes.com/2013/12/16/avago-to-buy-lsi-for-6-6-billion/?_r=0',\n",
       "   'source_description': 'Avago to Buy LSI for $6.6 Billion',\n",
       "   'acquired_year': 2013,\n",
       "   'acquired_month': 12,\n",
       "   'acquired_day': 16,\n",
       "   'acquiring_company': {'name': 'Avago Technologies',\n",
       "    'permalink': 'avago-technologies'}}}]"
      ]
     },
     "execution_count": 17,
     "metadata": {},
     "output_type": "execute_result"
    }
   ],
   "source": [
    "query={'acquisition.acquired_year': {'$gt': 2010} }\n",
    "\n",
    "filtro={'name': True, 'acquisition': True, '_id': False}\n",
    "\n",
    "\n",
    "list(colec.find(query, filtro).limit(3).sort('acquisition.price_amount', -1))"
   ]
  },
  {
   "cell_type": "markdown",
   "metadata": {},
   "source": [
    "### 14. Order the companies by their `founded year`, retrieving only their `name` and `founded year`."
   ]
  },
  {
   "cell_type": "code",
   "execution_count": 18,
   "metadata": {},
   "outputs": [
    {
     "data": {
      "text/plain": [
       "[{'name': 'Wamba', 'founded_year': 2013},\n",
       " {'name': 'Gimigo', 'founded_year': 2013},\n",
       " {'name': 'Clowdy', 'founded_year': 2013},\n",
       " {'name': 'Fixya', 'founded_year': 2013},\n",
       " {'name': 'Fluc', 'founded_year': 2013},\n",
       " {'name': 'SEOGroup', 'founded_year': 2013},\n",
       " {'name': 'Pikk', 'founded_year': 2013},\n",
       " {'name': 'WhosCall', 'founded_year': 2013},\n",
       " {'name': 'iBazar', 'founded_year': 2013},\n",
       " {'name': 'Advaliant', 'founded_year': 2013}]"
      ]
     },
     "execution_count": 18,
     "metadata": {},
     "output_type": "execute_result"
    }
   ],
   "source": [
    "filtro={'name': True, 'founded_year': True, '_id': False}\n",
    "\n",
    "\n",
    "list(colec.find('', filtro).limit(10).sort('founded_year', -1))"
   ]
  },
  {
   "cell_type": "markdown",
   "metadata": {},
   "source": [
    "### 15. All the companies that have been founded on the first seven days of the month, including the seventh. Sort them by their `acquisition price` in a descending order. Limit the search to 10 documents."
   ]
  },
  {
   "cell_type": "code",
   "execution_count": 19,
   "metadata": {},
   "outputs": [
    {
     "data": {
      "text/plain": [
       "[{'name': 'Netscape',\n",
       "  'founded_day': 4,\n",
       "  'acquisition': {'price_amount': 4200000000}},\n",
       " {'name': 'PayPal',\n",
       "  'founded_day': 1,\n",
       "  'acquisition': {'price_amount': 1500000000}},\n",
       " {'name': 'Zappos',\n",
       "  'founded_day': 1,\n",
       "  'acquisition': {'price_amount': 1200000000}},\n",
       " {'name': 'Alibaba',\n",
       "  'founded_day': 1,\n",
       "  'acquisition': {'price_amount': 1000000000}},\n",
       " {'name': 'Postini',\n",
       "  'founded_day': 2,\n",
       "  'acquisition': {'price_amount': 625000000}},\n",
       " {'name': 'Danger',\n",
       "  'founded_day': 1,\n",
       "  'acquisition': {'price_amount': 500000000}},\n",
       " {'name': 'Clearwell Systems',\n",
       "  'founded_day': 6,\n",
       "  'acquisition': {'price_amount': 410000000}},\n",
       " {'name': 'PrimeSense',\n",
       "  'founded_day': 1,\n",
       "  'acquisition': {'price_amount': 345000000}},\n",
       " {'name': 'Amobee',\n",
       "  'founded_day': 1,\n",
       "  'acquisition': {'price_amount': 321000000}},\n",
       " {'name': 'BlueLithium',\n",
       "  'founded_day': 1,\n",
       "  'acquisition': {'price_amount': 300000000}}]"
      ]
     },
     "execution_count": 19,
     "metadata": {},
     "output_type": "execute_result"
    }
   ],
   "source": [
    "query={'founded_day': {'$lte': 7} }\n",
    "\n",
    "filtro={'name': True, 'founded_day': True, 'acquisition.price_amount': True, '_id': False}\n",
    "\n",
    "\n",
    "list(colec.find(query, filtro).limit(10).sort('acquisition.price_amount',-1))"
   ]
  },
  {
   "cell_type": "markdown",
   "metadata": {},
   "source": [
    "### 16. All the companies on the 'web' `category` that have more than 4000 employees. Sort them by the amount of employees in ascending order."
   ]
  },
  {
   "cell_type": "code",
   "execution_count": 20,
   "metadata": {},
   "outputs": [
    {
     "data": {
      "text/plain": [
       "[{'name': 'Expedia', 'number_of_employees': 4400},\n",
       " {'name': 'AOL', 'number_of_employees': 8000},\n",
       " {'name': 'Webkinz', 'number_of_employees': 8657},\n",
       " {'name': 'Rakuten', 'number_of_employees': 10000},\n",
       " {'name': 'Los Angeles Times Media Group', 'number_of_employees': 10000},\n",
       " {'name': 'Groupon', 'number_of_employees': 10000},\n",
       " {'name': 'Yahoo!', 'number_of_employees': 13600},\n",
       " {'name': 'eBay', 'number_of_employees': 15000},\n",
       " {'name': 'Experian', 'number_of_employees': 15500}]"
      ]
     },
     "execution_count": 20,
     "metadata": {},
     "output_type": "execute_result"
    }
   ],
   "source": [
    "query={'$and': \n",
    "       [{'category_code': \"web\"} , {'number_of_employees': {'$gt': 4000}}]\n",
    "       }\n",
    "\n",
    "filtro={'name': True, 'number_of_employees': True, '_id': False}\n",
    "\n",
    "\n",
    "list(colec.find(query, filtro).limit(10).sort('number_of_employees', 1))"
   ]
  },
  {
   "cell_type": "markdown",
   "metadata": {},
   "source": [
    "### 17. All the companies whose acquisition amount is more than 10.000.000, and currency is 'EUR'."
   ]
  },
  {
   "cell_type": "code",
   "execution_count": 21,
   "metadata": {},
   "outputs": [
    {
     "data": {
      "text/plain": [
       "[{'name': 'Apertio', 'acquisition': {'price_amount': 140000000}},\n",
       " {'name': 'Webedia', 'acquisition': {'price_amount': 70000000}},\n",
       " {'name': 'Tuenti Technologies', 'acquisition': {'price_amount': 70000000}},\n",
       " {'name': 'BioMed Central', 'acquisition': {'price_amount': 43400000}},\n",
       " {'name': 'Greenfield Online', 'acquisition': {'price_amount': 40000000}},\n",
       " {'name': 'ZYB', 'acquisition': {'price_amount': 31500000}},\n",
       " {'name': 'Wayfinder', 'acquisition': {'price_amount': 24000000}}]"
      ]
     },
     "execution_count": 21,
     "metadata": {},
     "output_type": "execute_result"
    }
   ],
   "source": [
    "query={'$and': \n",
    "       [{'acquisition.price_currency_code': 'EUR'} , {'acquisition.price_amount': {'$gt': 1e7}}]\n",
    "       }\n",
    "\n",
    "filtro={'name': True, 'acquisition.price_amount': True, '_id': False}\n",
    "\n",
    "\n",
    "list(colec.find(query, filtro).limit(10).sort('acquisition.price_amount',-1))\n"
   ]
  },
  {
   "cell_type": "markdown",
   "metadata": {},
   "source": [
    "### 18. All the companies that have been acquired on the first trimester of the year. Limit the search to 10 companies, and retrieve only their `name` and `acquisition` fields."
   ]
  },
  {
   "cell_type": "code",
   "execution_count": 22,
   "metadata": {},
   "outputs": [
    {
     "data": {
      "text/plain": [
       "[{'name': 'T-Mobile',\n",
       "  'acquisition': {'price_amount': 39000000000,\n",
       "   'price_currency_code': 'USD',\n",
       "   'term_code': None,\n",
       "   'source_url': 'http://techcrunch.com/2011/03/20/in-the-race-for-more-spectrum-att-is-acquiring-t-mobile-for-39-billion/',\n",
       "   'source_description': 'In The Race For More Spectrum, AT&T Is Acquiring T-Mobile For $39 Billion',\n",
       "   'acquired_year': 2011,\n",
       "   'acquired_month': 3,\n",
       "   'acquired_day': 20,\n",
       "   'acquiring_company': {'name': 'AT&T', 'permalink': 'at-t'}}},\n",
       " {'name': 'BEA Systems',\n",
       "  'acquisition': {'price_amount': 8500000000,\n",
       "   'price_currency_code': 'USD',\n",
       "   'term_code': None,\n",
       "   'source_url': 'http://www.oracle.com/corporate/press/2008_jan/bea.html',\n",
       "   'source_description': 'Oracle to Acquire BEA Systems',\n",
       "   'acquired_year': 2008,\n",
       "   'acquired_month': 1,\n",
       "   'acquired_day': 16,\n",
       "   'acquiring_company': {'name': 'Oracle Corporation',\n",
       "    'permalink': 'oracle'}}},\n",
       " {'name': 'Pixar',\n",
       "  'acquisition': {'price_amount': 7400000000,\n",
       "   'price_currency_code': 'USD',\n",
       "   'term_code': 'stock',\n",
       "   'source_url': 'http://www.pixar.com/companyinfo/about_us/overview.htm',\n",
       "   'source_description': 'Pixar About Page',\n",
       "   'acquired_year': 2006,\n",
       "   'acquired_month': 1,\n",
       "   'acquired_day': 24,\n",
       "   'acquiring_company': {'name': 'The Walt Disney Company',\n",
       "    'permalink': 'the-walt-disney-company'}}}]"
      ]
     },
     "execution_count": 22,
     "metadata": {},
     "output_type": "execute_result"
    }
   ],
   "source": [
    "query={'acquisition.acquired_month': {'$lte': 3} }\n",
    "\n",
    "filtro={'name': True, 'acquisition': True, '_id': False}\n",
    "\n",
    "\n",
    "list(colec.find(query, filtro).limit(3).sort('acquisition.price_amount', -1))\n",
    "\n",
    "#Pongo solo tres"
   ]
  },
  {
   "cell_type": "markdown",
   "metadata": {},
   "source": [
    "# Bonus\n",
    "### 19. All the companies that have been founded between 2000 and 2010, but have not been acquired before 2011."
   ]
  },
  {
   "cell_type": "code",
   "execution_count": 23,
   "metadata": {},
   "outputs": [
    {
     "data": {
      "text/plain": [
       "[{'name': 'Wetpaint', 'founded_year': 2005},\n",
       " {'name': 'Digg', 'founded_year': 2004},\n",
       " {'name': 'Geni', 'founded_year': 2006},\n",
       " {'name': 'Kyte', 'founded_year': 2006},\n",
       " {'name': 'Jingle Networks', 'founded_year': 2005},\n",
       " {'name': 'blogTV', 'founded_year': 2006},\n",
       " {'name': 'delicious', 'founded_year': 2003},\n",
       " {'name': 'Revision3', 'founded_year': 2005},\n",
       " {'name': 'iContact', 'founded_year': 2003},\n",
       " {'name': 'Mashery', 'founded_year': 2006}]"
      ]
     },
     "execution_count": 23,
     "metadata": {},
     "output_type": "execute_result"
    }
   ],
   "source": [
    "query={'$and': \n",
    "       [{'founded_year': {'$gte': 2000}} , {'founded_year': {'$lte': 2010}} ,{'acquisition.acquired_year': {'$gte': 2011}}]\n",
    "       }\n",
    "\n",
    "filtro={'name': True, 'founded_year': True, '_id': False}\n",
    "\n",
    "\n",
    "list(colec.find(query, filtro).limit(10))"
   ]
  },
  {
   "cell_type": "markdown",
   "metadata": {},
   "source": [
    "### 20. All the companies that have been 'deadpooled' after the third year."
   ]
  },
  {
   "cell_type": "code",
   "execution_count": 24,
   "metadata": {},
   "outputs": [
    {
     "data": {
      "text/html": [
       "<div>\n",
       "<style scoped>\n",
       "    .dataframe tbody tr th:only-of-type {\n",
       "        vertical-align: middle;\n",
       "    }\n",
       "\n",
       "    .dataframe tbody tr th {\n",
       "        vertical-align: top;\n",
       "    }\n",
       "\n",
       "    .dataframe thead th {\n",
       "        text-align: right;\n",
       "    }\n",
       "</style>\n",
       "<table border=\"1\" class=\"dataframe\">\n",
       "  <thead>\n",
       "    <tr style=\"text-align: right;\">\n",
       "      <th></th>\n",
       "      <th>name</th>\n",
       "      <th>founded_year</th>\n",
       "      <th>deadpooled_year</th>\n",
       "    </tr>\n",
       "  </thead>\n",
       "  <tbody>\n",
       "    <tr>\n",
       "      <th>0</th>\n",
       "      <td>Omnidrive</td>\n",
       "      <td>2005</td>\n",
       "      <td>2008</td>\n",
       "    </tr>\n",
       "    <tr>\n",
       "      <th>1</th>\n",
       "      <td>Babelgum</td>\n",
       "      <td>2007</td>\n",
       "      <td>2013</td>\n",
       "    </tr>\n",
       "    <tr>\n",
       "      <th>2</th>\n",
       "      <td>Sparter</td>\n",
       "      <td>2007</td>\n",
       "      <td>2008</td>\n",
       "    </tr>\n",
       "    <tr>\n",
       "      <th>3</th>\n",
       "      <td>Thoof</td>\n",
       "      <td>2006</td>\n",
       "      <td>2013</td>\n",
       "    </tr>\n",
       "    <tr>\n",
       "      <th>4</th>\n",
       "      <td>Wesabe</td>\n",
       "      <td>2005</td>\n",
       "      <td>2010</td>\n",
       "    </tr>\n",
       "  </tbody>\n",
       "</table>\n",
       "</div>"
      ],
      "text/plain": [
       "        name  founded_year  deadpooled_year\n",
       "0  Omnidrive          2005             2008\n",
       "1   Babelgum          2007             2013\n",
       "2    Sparter          2007             2008\n",
       "3      Thoof          2006             2013\n",
       "4     Wesabe          2005             2010"
      ]
     },
     "execution_count": 24,
     "metadata": {},
     "output_type": "execute_result"
    }
   ],
   "source": [
    "import pandas as pd\n",
    "\n",
    "query={'$and': \n",
    "       [{'founded_year': {'$gte': 1500}} ,{'deadpooled_year': {'$gte': 1500}}]\n",
    "       }\n",
    "filtro={'name': True, 'deadpooled_year': True, 'founded_year': True, '_id': False}\n",
    "\n",
    "\n",
    "df=pd.DataFrame(list(colec.find(query, filtro)))\n",
    "\n",
    "df.head()"
   ]
  },
  {
   "cell_type": "code",
   "execution_count": 28,
   "metadata": {},
   "outputs": [],
   "source": [
    "df['diff']=df.deadpooled_year-df.founded_year"
   ]
  },
  {
   "cell_type": "code",
   "execution_count": 35,
   "metadata": {},
   "outputs": [
    {
     "data": {
      "text/html": [
       "<div>\n",
       "<style scoped>\n",
       "    .dataframe tbody tr th:only-of-type {\n",
       "        vertical-align: middle;\n",
       "    }\n",
       "\n",
       "    .dataframe tbody tr th {\n",
       "        vertical-align: top;\n",
       "    }\n",
       "\n",
       "    .dataframe thead th {\n",
       "        text-align: right;\n",
       "    }\n",
       "</style>\n",
       "<table border=\"1\" class=\"dataframe\">\n",
       "  <thead>\n",
       "    <tr style=\"text-align: right;\">\n",
       "      <th></th>\n",
       "      <th>name</th>\n",
       "      <th>founded_year</th>\n",
       "      <th>deadpooled_year</th>\n",
       "      <th>diff</th>\n",
       "    </tr>\n",
       "  </thead>\n",
       "  <tbody>\n",
       "    <tr>\n",
       "      <th>0</th>\n",
       "      <td>Omnidrive</td>\n",
       "      <td>2005</td>\n",
       "      <td>2008</td>\n",
       "      <td>3</td>\n",
       "    </tr>\n",
       "    <tr>\n",
       "      <th>1</th>\n",
       "      <td>Babelgum</td>\n",
       "      <td>2007</td>\n",
       "      <td>2013</td>\n",
       "      <td>6</td>\n",
       "    </tr>\n",
       "    <tr>\n",
       "      <th>2</th>\n",
       "      <td>Sparter</td>\n",
       "      <td>2007</td>\n",
       "      <td>2008</td>\n",
       "      <td>1</td>\n",
       "    </tr>\n",
       "    <tr>\n",
       "      <th>3</th>\n",
       "      <td>Thoof</td>\n",
       "      <td>2006</td>\n",
       "      <td>2013</td>\n",
       "      <td>7</td>\n",
       "    </tr>\n",
       "    <tr>\n",
       "      <th>4</th>\n",
       "      <td>Wesabe</td>\n",
       "      <td>2005</td>\n",
       "      <td>2010</td>\n",
       "      <td>5</td>\n",
       "    </tr>\n",
       "  </tbody>\n",
       "</table>\n",
       "</div>"
      ],
      "text/plain": [
       "        name  founded_year  deadpooled_year  diff\n",
       "0  Omnidrive          2005             2008     3\n",
       "1   Babelgum          2007             2013     6\n",
       "2    Sparter          2007             2008     1\n",
       "3      Thoof          2006             2013     7\n",
       "4     Wesabe          2005             2010     5"
      ]
     },
     "execution_count": 35,
     "metadata": {},
     "output_type": "execute_result"
    }
   ],
   "source": [
    "df.head()"
   ]
  },
  {
   "cell_type": "code",
   "execution_count": 59,
   "metadata": {},
   "outputs": [
    {
     "name": "stdout",
     "output_type": "stream",
     "text": [
      "271 empresas:  ['Omnidrive', 'Sparter', 'Jangl SMS', 'Spotplex', 'TripUp', 'Fleck', 'Zooomr', 'TripHub', 'adBrite', 'WebbAlert', 'KnockaTV', 'EventVue', 'SlapVid', 'DotBlu', 'CrowdSpirit', 'GotStatus', 'IPartee', 'Iggli', 'BrightQube', 'BuzzDash', 'MatchMine', 'Predictify', 'Floobs', 'Needium', 'NebuAd', 'Zoji', 'YouOS', 'Utterz', 'Bahu', 'WeShow', 'PlayCafe', 'MOLI', 'MetaNotes', 'Weblogs', 'ClayValet', 'UGAME', 'China-8', 'LUNARR', 'Advaliant', 'openPeople', '8aweek', 'octabox', 'IShareWeShare', 'Pollsit', 'GenieTown', 'FameCast', 'JuicyCampus', 'Popularo', 'Aullo', 'Folkstr', 'Biographicon', 'Brijit', 'Ezmo', 'ScribeStorm', 'Snaptalent', 'Daikana', 'Arclight Media Technology', 'kwiry', 'Wundrbar', 'writewith', 'Moblica', 'CJReport', 'Pikum', 'Wakozi', 'Kublax', 'utoopia', 'PluggedIn', 'MediaScrape', 'StrawPoll', 'InGameNow', 'Zeer', 'RemindBlast', 'Supercool School', 'Wirama', 'Streamy', 'Weeno Media', 'Teen Media Productions', 'RabbleDabble', 'Admixture', 'hearwhere', 'Phreadz', 'Jowba', 'Cloudcity', 'Gamook', 'mymission2', 'International Liars Poker Association', 'Leaders2020', 'Vivaty', 'TeamStreamz', 'Trusera', 'GET Holding NV', 'Fashionspace', 'DriftToIt', 'FuseCal', 'SocialBrowse', 'SportsTwit', 'Wowuwu', 'PUDGIN', 'AltSearchEngines', 'Sonya Labs', 'Zyked', 'Woldme', 'PharmaNation', 'GlocalReach', 'Flowgram', 'Imara Corporation', 'Veedow', 'Kickplay', \"We're Rolling\", 'TagosGreen Business Community', 'Mapori', 'Event Innovation', 'Anthillz', 'Zorap', 'Agdersoft', 'GoYoDeo', 'Phrazit', 'Snipd', 'Statzen', 'OfferLounge', 'Prosperity Financial Services Pte Ltd', 'Ultimate Football Network', 'Galaxy', 'PicMe', 'My Best Interest', 'Divvy Systems', 'Geodelic Systems', 'iFavr', 'Valid', 'Status', 'cmypitch', 'GoYoDeo', 'Phrazit', 'Snipd', 'Statzen', 'OfferLounge', 'Prosperity Financial Services Pte Ltd', 'Ultimate Football Network', 'Galaxy', 'PicMe', 'My Best Interest', 'Divvy Systems', 'Geodelic Systems', 'iFavr', 'Valid', 'Status', 'cmypitch', \"For Art's Sake Media\", 'Linkbee', 'Videofropper', 'BuzzBuy', 'EyeSpot', 'One Season', 'Infima Technologies', 'Freebo', 'Socialfly', 'GoHoster', 'For Your Imagination', 'Sonichall', 'Mogees', 'QikCom', 'Tidalwave Trader', 'TasteSpace', 'Star Fever Agency', 'Mindity', 'BlogRush', 'mangofizz jobs', 'GetBack', 'HourVille', 'Ptch', 'Ecommo', 'TwentyFour6', 'Wizzgo', 'Dexmo', '1DayMakeover', 'Tellwiki', 'Livekick', 'Snappr', 'Twones', 'CitySpeek', 'HelpHive', 'twitTangle', 'Calisto100', 'Twitpay', 'twtcard', 'Twitter Tribune', 'PeopleRipple', 'Vibeex', 'Storytlr', \"Trusty's\", 'Digiprof', 'Veeda', 'Stiki Digital', 'D2C Games', 'ZinkoTek', 'LiveRSVP', 'Ohai', 'Dial a Dealer', 'UWantSavings', 'HealthLok', 'Bemba', 'Jobulous', 'Conformity', 'VisualPin', 'Veebox', 'LaunchMind', 'PopJam', 'Gridpop', 'PLUQ', 'HealthyTweet', 'Fliggo', 'Legal River', 'Kashless', 'Champions365', 'KidSwirl', 'documistic', 'North by South', 'iconDial', 'Qwiji', 'Tongxue', 'Skysheet', 'Nambii', 'Boring', 'Shopnics', 'Trendient', 'Ravant', 'PickPark', 'HowYouEco', 'CityAmigo', 'VidPay', 'TV Pixie', 'Broadersheet', 'Bomeiti', 'Jobzle', 'zembly', 'Keenpath', 'Zinkk', 'Service Beacon', 'BookTour', 'iSyndica', 'myGreek', 'Dream Village', 'View2Gether', 'Tempolib', 'Healogica', 'ePrivateHire', 'Zumbua', 'Beautiful People Society', 'Wi-Chi', 'Social Collective', 'ZodBod', 'Staaff', 'Dubspace', 'Infoflow', 'TweetWagon', 'Jomito', 'Four Colors', 'inversearch', 'Witel', 'Sprowtt Marketplace', 'Eclector', 'Siruna', 'TwtBks', 'LugIron Software', 'Revetto', 'Kerfuffle', 'Bonvoyagee', 'Bookrags', 'tribalX', 'Advanced Power Projects', 'OfficialVirtualDJ']\n"
     ]
    }
   ],
   "source": [
    "df = df.drop(df[df['diff'] > 3].index)\n",
    "\n",
    "df.shape\n",
    "\n",
    "print(\"271 empresas: \", list(df.name))"
   ]
  }
 ],
 "metadata": {
  "kernelspec": {
   "display_name": "Python 3 (ipykernel)",
   "language": "python",
   "name": "python3"
  },
  "language_info": {
   "codemirror_mode": {
    "name": "ipython",
    "version": 3
   },
   "file_extension": ".py",
   "mimetype": "text/x-python",
   "name": "python",
   "nbconvert_exporter": "python",
   "pygments_lexer": "ipython3",
   "version": "3.9.12"
  }
 },
 "nbformat": 4,
 "nbformat_minor": 2
}
