{
 "cells": [
  {
   "cell_type": "markdown",
   "metadata": {},
   "source": [
    "# Advanced Querying Mongo"
   ]
  },
  {
   "cell_type": "markdown",
   "metadata": {},
   "source": [
    "Importing libraries and setting up connection"
   ]
  },
  {
   "cell_type": "code",
   "execution_count": 1,
   "metadata": {},
   "outputs": [],
   "source": [
    "#%pip install pymongo\n",
    "\n",
    "import warnings\n",
    "warnings.filterwarnings('ignore')\n",
    "\n",
    "from pymongo import MongoClient\n",
    "\n",
    "str_conn='mongodb://localhost:27017'\n",
    "\n",
    "client = MongoClient(str_conn)\n"
   ]
  },
  {
   "cell_type": "code",
   "execution_count": 2,
   "metadata": {},
   "outputs": [
    {
     "data": {
      "text/plain": [
       "['admin', 'companies', 'config', 'local']"
      ]
     },
     "execution_count": 2,
     "metadata": {},
     "output_type": "execute_result"
    }
   ],
   "source": [
    "client.list_database_names() "
   ]
  },
  {
   "cell_type": "code",
   "execution_count": 3,
   "metadata": {},
   "outputs": [],
   "source": [
    "db = client.companies"
   ]
  },
  {
   "cell_type": "code",
   "execution_count": 4,
   "metadata": {},
   "outputs": [
    {
     "data": {
      "text/plain": [
       "<bound method Database.list_collection_names of Database(MongoClient(host=['localhost:27017'], document_class=dict, tz_aware=False, connect=True), 'companies')>"
      ]
     },
     "execution_count": 4,
     "metadata": {},
     "output_type": "execute_result"
    }
   ],
   "source": [
    "db.list_collection_names"
   ]
  },
  {
   "cell_type": "code",
   "execution_count": 5,
   "metadata": {},
   "outputs": [],
   "source": [
    "colec = db.companies"
   ]
  },
  {
   "cell_type": "markdown",
   "metadata": {},
   "source": [
    "### 1. All the companies whose name match 'Babelgum'. Retrieve only their `name` field."
   ]
  },
  {
   "cell_type": "code",
   "execution_count": 6,
   "metadata": {},
   "outputs": [
    {
     "data": {
      "text/plain": [
       "[{'name': 'Babelgum'}]"
      ]
     },
     "execution_count": 6,
     "metadata": {},
     "output_type": "execute_result"
    }
   ],
   "source": [
    "# Your Code\n",
    "\n",
    "query = {'name': 'Babelgum'}\n",
    "filtro = {'name': True, '_id': False}\n",
    "list(colec.find(query, filtro))"
   ]
  },
  {
   "cell_type": "markdown",
   "metadata": {},
   "source": [
    "### 2. All the companies that have more than 5000 employees. Limit the search to 20 companies and sort them by **number of employees**."
   ]
  },
  {
   "cell_type": "code",
   "execution_count": 7,
   "metadata": {},
   "outputs": [
    {
     "data": {
      "text/plain": [
       "[{'name': 'Facebook', 'number_of_employees': 5299},\n",
       " {'name': 'eBay', 'number_of_employees': 15000},\n",
       " {'name': 'Cisco', 'number_of_employees': 63000},\n",
       " {'name': 'Yahoo!', 'number_of_employees': 13600},\n",
       " {'name': 'Google', 'number_of_employees': 28000},\n",
       " {'name': 'Intel', 'number_of_employees': 86300},\n",
       " {'name': 'Nintendo', 'number_of_employees': 5080},\n",
       " {'name': 'Adobe Systems', 'number_of_employees': 7173},\n",
       " {'name': 'Sony', 'number_of_employees': 180500},\n",
       " {'name': 'PayPal', 'number_of_employees': 300000},\n",
       " {'name': 'The Walt Disney Company', 'number_of_employees': 25000},\n",
       " {'name': 'AOL', 'number_of_employees': 8000},\n",
       " {'name': 'Webkinz', 'number_of_employees': 8657},\n",
       " {'name': 'Sun Microsystems', 'number_of_employees': 33350},\n",
       " {'name': 'Nokia', 'number_of_employees': 125000},\n",
       " {'name': 'Rakuten', 'number_of_employees': 10000},\n",
       " {'name': 'Microsoft', 'number_of_employees': 90000},\n",
       " {'name': 'Apple', 'number_of_employees': 80000},\n",
       " {'name': 'NetApp', 'number_of_employees': 8000},\n",
       " {'name': 'Motorola Solutions', 'number_of_employees': 51000}]"
      ]
     },
     "execution_count": 7,
     "metadata": {},
     "output_type": "execute_result"
    }
   ],
   "source": [
    "# Your Code\n",
    "query = {'number_of_employees': {'$gt':5000}}\n",
    "filtro = {'number_of_employees': True, 'name': True, '_id': False}\n",
    "list(colec.find(query, filtro).limit(20))"
   ]
  },
  {
   "cell_type": "code",
   "execution_count": null,
   "metadata": {},
   "outputs": [],
   "source": []
  },
  {
   "cell_type": "markdown",
   "metadata": {},
   "source": [
    "### 3. All the companies founded between 2000 and 2005, both years included. Retrieve only the `name` and `founded_year` fields."
   ]
  },
  {
   "cell_type": "code",
   "execution_count": 8,
   "metadata": {},
   "outputs": [
    {
     "data": {
      "text/plain": [
       "[{'name': 'Wetpaint', 'founded_year': 2005},\n",
       " {'name': 'Zoho', 'founded_year': 2005},\n",
       " {'name': 'Digg', 'founded_year': 2004},\n",
       " {'name': 'Facebook', 'founded_year': 2004},\n",
       " {'name': 'Omnidrive', 'founded_year': 2005}]"
      ]
     },
     "execution_count": 8,
     "metadata": {},
     "output_type": "execute_result"
    }
   ],
   "source": [
    "# Your Code\n",
    "query = {'$and':[{'founded_year': {'$lte': 2005}},\n",
    "                         {'founded_year': {'$gte': 2000}}]}\n",
    "filtro = {'name': True, 'founded_year': True, '_id': False}\n",
    "list(colec.find(query, filtro).limit(5))"
   ]
  },
  {
   "cell_type": "markdown",
   "metadata": {},
   "source": [
    "### 4.All the companies that had a Valuation Amount of more than 100.000.000 and have been founded before 2010. Retrieve only the name and ipo fields.\n"
   ]
  },
  {
   "cell_type": "code",
   "execution_count": 9,
   "metadata": {},
   "outputs": [
    {
     "data": {
      "text/plain": [
       "[{'name': 'Facebook',\n",
       "  'ipo': {'valuation_amount': 104000000000,\n",
       "   'valuation_currency_code': 'USD',\n",
       "   'pub_year': 2012,\n",
       "   'pub_month': 5,\n",
       "   'pub_day': 18,\n",
       "   'stock_symbol': 'NASDAQ:FB'}},\n",
       " {'name': 'Twitter',\n",
       "  'ipo': {'valuation_amount': 18100000000,\n",
       "   'valuation_currency_code': 'USD',\n",
       "   'pub_year': 2013,\n",
       "   'pub_month': 11,\n",
       "   'pub_day': 7,\n",
       "   'stock_symbol': 'NYSE:TWTR'}},\n",
       " {'name': 'Yelp',\n",
       "  'ipo': {'valuation_amount': 1300000000,\n",
       "   'valuation_currency_code': 'USD',\n",
       "   'pub_year': 2012,\n",
       "   'pub_month': 3,\n",
       "   'pub_day': 2,\n",
       "   'stock_symbol': 'NYSE:YELP'}},\n",
       " {'name': 'LinkedIn',\n",
       "  'ipo': {'valuation_amount': 9310000000,\n",
       "   'valuation_currency_code': 'USD',\n",
       "   'pub_year': 2011,\n",
       "   'pub_month': 7,\n",
       "   'pub_day': 20,\n",
       "   'stock_symbol': 'NYSE:LNKD'}},\n",
       " {'name': 'Amazon',\n",
       "  'ipo': {'valuation_amount': 100000000000,\n",
       "   'valuation_currency_code': 'USD',\n",
       "   'pub_year': 1997,\n",
       "   'pub_month': 5,\n",
       "   'pub_day': None,\n",
       "   'stock_symbol': 'NASDAQ:AMZN'}}]"
      ]
     },
     "execution_count": 9,
     "metadata": {},
     "output_type": "execute_result"
    }
   ],
   "source": [
    "# Your Code\n",
    "query = {'$and':[{'founded_year': {'$lt': 2010}},\n",
    "                         {'ipo.valuation_amount': {'$gte': 100000000}}]}\n",
    "filtro = {'name': True, 'ipo': True, '_id': False}\n",
    "list(colec.find(query, filtro).limit(5))"
   ]
  },
  {
   "cell_type": "markdown",
   "metadata": {},
   "source": [
    "### 5. All the companies that have less than 1000 employees and have been founded before 2005. Order them by the number of employees and limit the search to 10 companies."
   ]
  },
  {
   "cell_type": "code",
   "execution_count": 10,
   "metadata": {},
   "outputs": [
    {
     "data": {
      "text/plain": [
       "[{'name': 'YouTube', 'number_of_employees': 0, 'founded_year': 2005},\n",
       " {'name': 'stylediary', 'number_of_employees': 0, 'founded_year': 2004},\n",
       " {'name': 'PartnerUp', 'number_of_employees': 0, 'founded_year': 2005},\n",
       " {'name': 'Bebo', 'number_of_employees': 0, 'founded_year': 2005},\n",
       " {'name': 'Fox Interactive Media',\n",
       "  'number_of_employees': 0,\n",
       "  'founded_year': 1979},\n",
       " {'name': 'Attributor', 'number_of_employees': 0, 'founded_year': 2005},\n",
       " {'name': 'Yeigo', 'number_of_employees': 0, 'founded_year': 2005},\n",
       " {'name': 'MindTouch', 'number_of_employees': 0, 'founded_year': 2004},\n",
       " {'name': 'Ticketmaster', 'number_of_employees': 0, 'founded_year': 1976},\n",
       " {'name': 'Skype', 'number_of_employees': 0, 'founded_year': 2003}]"
      ]
     },
     "execution_count": 10,
     "metadata": {},
     "output_type": "execute_result"
    }
   ],
   "source": [
    "# Your Code\n",
    "query = {'$and':[{'number_of_employees': {'$lt': 1000}},\n",
    "                         {'founded_year': {'$lte': 2005}}]}\n",
    "filtro = {'name': True, 'number_of_employees': True, 'founded_year': True, '_id': False}\n",
    "list(colec.find(query,filtro).sort('number_of_employees').limit(10))"
   ]
  },
  {
   "cell_type": "code",
   "execution_count": null,
   "metadata": {},
   "outputs": [],
   "source": []
  },
  {
   "cell_type": "markdown",
   "metadata": {},
   "source": [
    "### 6. All the companies that don't include the `partners` field."
   ]
  },
  {
   "cell_type": "code",
   "execution_count": 11,
   "metadata": {},
   "outputs": [
    {
     "data": {
      "text/plain": [
       "[{'name': 'Wetpaint', 'partners': []},\n",
       " {'name': 'AdventNet', 'partners': []},\n",
       " {'name': 'Zoho', 'partners': []},\n",
       " {'name': 'Digg', 'partners': []},\n",
       " {'name': 'Facebook', 'partners': []}]"
      ]
     },
     "execution_count": 11,
     "metadata": {},
     "output_type": "execute_result"
    }
   ],
   "source": [
    "# Your Code\n",
    "query = {'partners' : {'$exists' : 'false' }}\n",
    "filtro = {'partners': True, '_id': False, 'name': True}\n",
    "list(colec.find(query,filtro).limit(5))"
   ]
  },
  {
   "cell_type": "markdown",
   "metadata": {},
   "source": [
    "### 7. All the companies that have a null type of value on the `category_code` field."
   ]
  },
  {
   "cell_type": "code",
   "execution_count": 12,
   "metadata": {},
   "outputs": [
    {
     "data": {
      "text/plain": [
       "[{'name': 'Collective', 'category_code': None},\n",
       " {'name': 'Snimmer', 'category_code': None},\n",
       " {'name': 'KoolIM', 'category_code': None}]"
      ]
     },
     "execution_count": 12,
     "metadata": {},
     "output_type": "execute_result"
    }
   ],
   "source": [
    "# Your Code\n",
    "query={'category_code': {'$type':10}}\n",
    "filtro = {'category_code': True, 'name': True, '_id': False}\n",
    "list(colec.find(query,filtro).limit(3))\n"
   ]
  },
  {
   "cell_type": "code",
   "execution_count": null,
   "metadata": {},
   "outputs": [],
   "source": []
  },
  {
   "cell_type": "markdown",
   "metadata": {},
   "source": [
    "### 8. All the companies that have at least 100 employees but less than 1000. Retrieve only the `name` and `number of employees` fields."
   ]
  },
  {
   "cell_type": "code",
   "execution_count": 13,
   "metadata": {},
   "outputs": [
    {
     "data": {
      "text/plain": [
       "[{'name': 'Jedox', 'number_of_employees': 101},\n",
       " {'name': 'KAYAK', 'number_of_employees': 101},\n",
       " {'name': 'OfficialVirtualDJ', 'number_of_employees': 102},\n",
       " {'name': 'OSA Technologies', 'number_of_employees': 102},\n",
       " {'name': 'GoGrid', 'number_of_employees': 102}]"
      ]
     },
     "execution_count": 13,
     "metadata": {},
     "output_type": "execute_result"
    }
   ],
   "source": [
    "# Your Code\n",
    "query = {'$and':[{'number_of_employees': {'$lt': 1000}},\n",
    "                         {'number_of_employees': {'$gt': 100}}]}\n",
    "filtro = {'name': True, 'number_of_employees': True, '_id': False}\n",
    "list(colec.find(query,filtro).sort('number_of_employees').limit(5))\n",
    "\n"
   ]
  },
  {
   "cell_type": "code",
   "execution_count": null,
   "metadata": {},
   "outputs": [],
   "source": []
  },
  {
   "cell_type": "markdown",
   "metadata": {},
   "source": [
    "### 9. Order all the companies by their IPO price in a descending order."
   ]
  },
  {
   "cell_type": "code",
   "execution_count": 14,
   "metadata": {},
   "outputs": [
    {
     "data": {
      "text/plain": [
       "[{'name': 'GREE', 'ipo': {'valuation_amount': 108960000000}},\n",
       " {'name': 'Facebook', 'ipo': {'valuation_amount': 104000000000}},\n",
       " {'name': 'Amazon', 'ipo': {'valuation_amount': 100000000000}},\n",
       " {'name': 'Twitter', 'ipo': {'valuation_amount': 18100000000}},\n",
       " {'name': 'Groupon', 'ipo': {'valuation_amount': 12800000000}}]"
      ]
     },
     "execution_count": 14,
     "metadata": {},
     "output_type": "execute_result"
    }
   ],
   "source": [
    "# Your Code\n",
    "query = {'ipo.valuation_amount': {'$ne' : 'None' }}\n",
    "filtro = {'name': True, 'ipo.valuation_amount': True, '_id': False}\n",
    "list(colec.find(query,filtro).sort('ipo.valuation_amount', -1).limit(5))\n"
   ]
  },
  {
   "cell_type": "markdown",
   "metadata": {},
   "source": [
    "### 10. Retrieve the 10 companies with more employees, order by the `number of employees`"
   ]
  },
  {
   "cell_type": "code",
   "execution_count": 15,
   "metadata": {},
   "outputs": [
    {
     "data": {
      "text/plain": [
       "[{'name': 'Siemens', 'number_of_employees': 405000},\n",
       " {'name': 'IBM', 'number_of_employees': 388000},\n",
       " {'name': 'Toyota', 'number_of_employees': 320000},\n",
       " {'name': 'PayPal', 'number_of_employees': 300000},\n",
       " {'name': 'Nippon Telegraph and Telephone Corporation',\n",
       "  'number_of_employees': 227000},\n",
       " {'name': 'Samsung Electronics', 'number_of_employees': 221726},\n",
       " {'name': 'Accenture', 'number_of_employees': 205000},\n",
       " {'name': 'Tata Consultancy Services', 'number_of_employees': 200300},\n",
       " {'name': 'Flextronics International', 'number_of_employees': 200000},\n",
       " {'name': 'Safeway', 'number_of_employees': 186000}]"
      ]
     },
     "execution_count": 15,
     "metadata": {},
     "output_type": "execute_result"
    }
   ],
   "source": [
    "# Your Code\n",
    "query = {'number_of_employees': {'$ne' : 'None' }}\n",
    "filtro = {'name': True, 'number_of_employees': True, '_id': False}\n",
    "list(colec.find(query,filtro).sort('number_of_employees', -1).limit(10))"
   ]
  },
  {
   "cell_type": "markdown",
   "metadata": {},
   "source": [
    "### 11. All the companies founded on the second semester of the year. Limit your search to 1000 companies."
   ]
  },
  {
   "cell_type": "code",
   "execution_count": 16,
   "metadata": {},
   "outputs": [
    {
     "data": {
      "text/plain": [
       "[{'name': 'MeeVee', 'founded_month': 7},\n",
       " {'name': 'Yapta', 'founded_month': 7},\n",
       " {'name': 'GigaOM', 'founded_month': 7},\n",
       " {'name': 'Pando Networks', 'founded_month': 7},\n",
       " {'name': 'Yelp', 'founded_month': 7},\n",
       " {'name': 'Cyworld', 'founded_month': 7},\n",
       " {'name': 'Ujogo', 'founded_month': 7},\n",
       " {'name': 'Terabitz', 'founded_month': 7},\n",
       " {'name': 'Jaiku', 'founded_month': 7},\n",
       " {'name': 'iContact', 'founded_month': 7}]"
      ]
     },
     "execution_count": 16,
     "metadata": {},
     "output_type": "execute_result"
    }
   ],
   "source": [
    "# Your Code\n",
    "query = {'$and':[{'founded_month': {'$lte': 12}},\n",
    "                         {'founded_month': {'$gte': 7}}]}\n",
    "filtro = {'name': True, 'founded_month': True, '_id': False}\n",
    "list(colec.find(query,filtro).sort('founded_month').limit(10))"
   ]
  },
  {
   "cell_type": "markdown",
   "metadata": {},
   "source": [
    "### 12. All the companies founded before 2000 that have an acquisition amount of more than 10.000.00"
   ]
  },
  {
   "cell_type": "code",
   "execution_count": 17,
   "metadata": {},
   "outputs": [
    {
     "data": {
      "text/plain": [
       "[{'name': 'VideoSurf', 'founded_year': 1840},\n",
       " {'name': 'VideoSurf', 'founded_year': 1840},\n",
       " {'name': 'Stiefel', 'founded_year': 1847},\n",
       " {'name': 'Xerox', 'founded_year': 1906},\n",
       " {'name': 'Unilever', 'founded_year': 1930},\n",
       " {'name': 'Unilever', 'founded_year': 1930},\n",
       " {'name': 'Veeco Instruments', 'founded_year': 1945},\n",
       " {'name': 'National Semiconductor', 'founded_year': 1959},\n",
       " {'name': 'Sabre', 'founded_year': 1960},\n",
       " {'name': 'Metrologic Instruments', 'founded_year': 1968}]"
      ]
     },
     "execution_count": 17,
     "metadata": {},
     "output_type": "execute_result"
    }
   ],
   "source": [
    "# Your Code\n",
    "query = {'$and':[{'founded_year': {'$lt': 2000}},\n",
    "                         {'acquisition.price_amount': {'$gt': 10000000}}]}\n",
    "filtro = {'name': True, 'founded_year': True, '_id': False}\n",
    "list(colec.find(query,filtro).sort('founded_year').limit(10))\n"
   ]
  },
  {
   "cell_type": "markdown",
   "metadata": {},
   "source": [
    "### 13. All the companies that have been acquired after 2010, order by the acquisition amount, and retrieve only their `name` and `acquisition` field."
   ]
  },
  {
   "cell_type": "code",
   "execution_count": 18,
   "metadata": {},
   "outputs": [
    {
     "data": {
      "text/plain": [
       "[{'name': 'blogTV', 'acquisition': {'price_amount': None}},\n",
       " {'name': 'Mashery', 'acquisition': {'price_amount': None}},\n",
       " {'name': 'Geni', 'acquisition': {'price_amount': None}},\n",
       " {'name': 'delicious', 'acquisition': {'price_amount': None}},\n",
       " {'name': 'iContact', 'acquisition': {'price_amount': 169000000}},\n",
       " {'name': 'Jingle Networks', 'acquisition': {'price_amount': 62500000}},\n",
       " {'name': 'Wetpaint', 'acquisition': {'price_amount': 30000000}},\n",
       " {'name': 'Digg', 'acquisition': {'price_amount': 500000}},\n",
       " {'name': 'Kyte', 'acquisition': {'price_amount': None}},\n",
       " {'name': 'Revision3', 'acquisition': {'price_amount': 30000000}}]"
      ]
     },
     "execution_count": 18,
     "metadata": {},
     "output_type": "execute_result"
    }
   ],
   "source": [
    "# Your Code\n",
    "query = {'acquisition.acquired_year': {'$gt': 2010}}\n",
    "filtro = {'name': True, 'acquisition.price_amount': True, '_id': False}\n",
    "list(colec.find(query,filtro).sort('price_amount').limit(10))\n"
   ]
  },
  {
   "cell_type": "markdown",
   "metadata": {},
   "source": [
    "### 14. Order the companies by their `founded year`, retrieving only their `name` and `founded year`."
   ]
  },
  {
   "cell_type": "code",
   "execution_count": 19,
   "metadata": {},
   "outputs": [
    {
     "data": {
      "text/plain": [
       "[{'name': 'Wamba', 'founded_year': 2013},\n",
       " {'name': 'Gimigo', 'founded_year': 2013},\n",
       " {'name': 'Clowdy', 'founded_year': 2013},\n",
       " {'name': 'Fluc', 'founded_year': 2013},\n",
       " {'name': 'Advaliant', 'founded_year': 2013},\n",
       " {'name': 'Pikk', 'founded_year': 2013},\n",
       " {'name': 'WhosCall', 'founded_year': 2013},\n",
       " {'name': 'SEOGroup', 'founded_year': 2013},\n",
       " {'name': 'iBazar', 'founded_year': 2013},\n",
       " {'name': 'Fixya', 'founded_year': 2013}]"
      ]
     },
     "execution_count": 19,
     "metadata": {},
     "output_type": "execute_result"
    }
   ],
   "source": [
    "# Your Code\n",
    "query = {'founded_year': {'$ne': 'None'}}\n",
    "filtro = {'name': True, 'founded_year': True, '_id': False}\n",
    "list(colec.find(query,filtro).sort('founded_year', -1).limit(10))"
   ]
  },
  {
   "cell_type": "markdown",
   "metadata": {},
   "source": [
    "### 15. All the companies that have been founded on the first seven days of the month, including the seventh. Sort them by their `acquisition price` in a descending order. Limit the search to 10 documents."
   ]
  },
  {
   "cell_type": "code",
   "execution_count": 20,
   "metadata": {},
   "outputs": [
    {
     "data": {
      "text/plain": [
       "[{'name': 'Netscape',\n",
       "  'founded_day': 4,\n",
       "  'acquisition': {'price_amount': 4200000000}},\n",
       " {'name': 'PayPal',\n",
       "  'founded_day': 1,\n",
       "  'acquisition': {'price_amount': 1500000000}},\n",
       " {'name': 'Zappos',\n",
       "  'founded_day': 1,\n",
       "  'acquisition': {'price_amount': 1200000000}},\n",
       " {'name': 'Alibaba',\n",
       "  'founded_day': 1,\n",
       "  'acquisition': {'price_amount': 1000000000}},\n",
       " {'name': 'Postini',\n",
       "  'founded_day': 2,\n",
       "  'acquisition': {'price_amount': 625000000}},\n",
       " {'name': 'Danger',\n",
       "  'founded_day': 1,\n",
       "  'acquisition': {'price_amount': 500000000}},\n",
       " {'name': 'Clearwell Systems',\n",
       "  'founded_day': 6,\n",
       "  'acquisition': {'price_amount': 410000000}},\n",
       " {'name': 'PrimeSense',\n",
       "  'founded_day': 1,\n",
       "  'acquisition': {'price_amount': 345000000}},\n",
       " {'name': 'Amobee',\n",
       "  'founded_day': 1,\n",
       "  'acquisition': {'price_amount': 321000000}},\n",
       " {'name': 'Vitrue',\n",
       "  'founded_day': 1,\n",
       "  'acquisition': {'price_amount': 300000000}}]"
      ]
     },
     "execution_count": 20,
     "metadata": {},
     "output_type": "execute_result"
    }
   ],
   "source": [
    "# Your Code\n",
    "query = {'$and':[{'founded_day': {'$lte': 7}},{'acquisition.price_amount':{'$ne': 'None'}}]}\n",
    "filtro = {'name': True, 'founded_day': True, 'acquisition.price_amount': True, '_id': False}\n",
    "list(colec.find(query,filtro).sort('acquisition.price_amount', -1).limit(10))"
   ]
  },
  {
   "cell_type": "code",
   "execution_count": null,
   "metadata": {},
   "outputs": [],
   "source": []
  },
  {
   "cell_type": "markdown",
   "metadata": {},
   "source": [
    "### 16. All the companies on the 'web' `category` that have more than 4000 employees. Sort them by the amount of employees in ascending order."
   ]
  },
  {
   "cell_type": "code",
   "execution_count": 21,
   "metadata": {},
   "outputs": [
    {
     "data": {
      "text/plain": [
       "[{'name': 'Expedia', 'number_of_employees': 4400},\n",
       " {'name': 'AOL', 'number_of_employees': 8000},\n",
       " {'name': 'Webkinz', 'number_of_employees': 8657},\n",
       " {'name': 'Rakuten', 'number_of_employees': 10000},\n",
       " {'name': 'Los Angeles Times Media Group', 'number_of_employees': 10000},\n",
       " {'name': 'Groupon', 'number_of_employees': 10000},\n",
       " {'name': 'Yahoo!', 'number_of_employees': 13600},\n",
       " {'name': 'eBay', 'number_of_employees': 15000},\n",
       " {'name': 'Experian', 'number_of_employees': 15500}]"
      ]
     },
     "execution_count": 21,
     "metadata": {},
     "output_type": "execute_result"
    }
   ],
   "source": [
    "# Your Code\n",
    "query = {'$and':[{'category_code': 'web'},{'number_of_employees':{'$gt': 4000}}]}\n",
    "filtro = {'name': True, 'number_of_employees': True, 'category': True, '_id': False}\n",
    "list(colec.find(query,filtro).sort('number_of_employees',1).limit(10))"
   ]
  },
  {
   "cell_type": "code",
   "execution_count": null,
   "metadata": {},
   "outputs": [],
   "source": []
  },
  {
   "cell_type": "markdown",
   "metadata": {},
   "source": [
    "### 17. All the companies whose acquisition amount is more than 10.000.000, and currency is 'EUR'."
   ]
  },
  {
   "cell_type": "code",
   "execution_count": 22,
   "metadata": {},
   "outputs": [
    {
     "data": {
      "text/plain": [
       "[{'name': 'Apertio',\n",
       "  'acquisition': {'price_amount': 140000000, 'price_currency_code': 'EUR'}},\n",
       " {'name': 'Webedia',\n",
       "  'acquisition': {'price_amount': 70000000, 'price_currency_code': 'EUR'}},\n",
       " {'name': 'Tuenti Technologies',\n",
       "  'acquisition': {'price_amount': 70000000, 'price_currency_code': 'EUR'}},\n",
       " {'name': 'BioMed Central',\n",
       "  'acquisition': {'price_amount': 43400000, 'price_currency_code': 'EUR'}},\n",
       " {'name': 'Greenfield Online',\n",
       "  'acquisition': {'price_amount': 40000000, 'price_currency_code': 'EUR'}},\n",
       " {'name': 'ZYB',\n",
       "  'acquisition': {'price_amount': 31500000, 'price_currency_code': 'EUR'}},\n",
       " {'name': 'Wayfinder',\n",
       "  'acquisition': {'price_amount': 24000000, 'price_currency_code': 'EUR'}},\n",
       " {'name': 'Mobile Trend',\n",
       "  'acquisition': {'price_amount': 7000000, 'price_currency_code': 'EUR'}},\n",
       " {'name': 'Branded Payment Solutions',\n",
       "  'acquisition': {'price_amount': 3100000, 'price_currency_code': 'EUR'}},\n",
       " {'name': 'YelloYello',\n",
       "  'acquisition': {'price_amount': 2500000, 'price_currency_code': 'EUR'}}]"
      ]
     },
     "execution_count": 22,
     "metadata": {},
     "output_type": "execute_result"
    }
   ],
   "source": [
    "# Your Code\n",
    "query = {'$and':[{'acquisition.price_amount': {'$gt': 1000000}},{'acquisition.price_currency_code':'EUR'}]}\n",
    "filtro = {'name': True, 'acquisition.price_amount': True, 'acquisition.price_currency_code': True, '_id': False}\n",
    "list(colec.find(query,filtro).sort('acquisition.price_amount',-1).limit(10))"
   ]
  },
  {
   "cell_type": "markdown",
   "metadata": {},
   "source": [
    "### 18. All the companies that have been acquired on the first trimester of the year. Limit the search to 10 companies, and retrieve only their `name` and `acquisition` fields."
   ]
  },
  {
   "cell_type": "code",
   "execution_count": 23,
   "metadata": {},
   "outputs": [
    {
     "data": {
      "text/plain": [
       "[{'name': 'Ticketmaster', 'acquisition': {'acquired_month': 1}},\n",
       " {'name': 'BillMonk', 'acquisition': {'acquired_month': 1}},\n",
       " {'name': 'Filtrbox', 'acquisition': {'acquired_month': 1}},\n",
       " {'name': 'Six Apart', 'acquisition': {'acquired_month': 1}},\n",
       " {'name': 'Livestream', 'acquisition': {'acquired_month': 1}},\n",
       " {'name': 'Quattro Wireless', 'acquisition': {'acquired_month': 1}},\n",
       " {'name': 'Buzzmetrics', 'acquisition': {'acquired_month': 1}},\n",
       " {'name': 'Flock', 'acquisition': {'acquired_month': 1}},\n",
       " {'name': 'Zenfolio', 'acquisition': {'acquired_month': 1}},\n",
       " {'name': 'Kyte', 'acquisition': {'acquired_month': 1}}]"
      ]
     },
     "execution_count": 23,
     "metadata": {},
     "output_type": "execute_result"
    }
   ],
   "source": [
    "# Your Code\n",
    "query = {'acquisition.acquired_month': {'$lte': 3}}\n",
    "filtro = {'name': True, 'acquisition.acquired_month': True, '_id': False}\n",
    "list(colec.find(query,filtro).sort('acquisition.acquired_month', 1).limit(10))"
   ]
  },
  {
   "cell_type": "code",
   "execution_count": null,
   "metadata": {},
   "outputs": [],
   "source": []
  },
  {
   "cell_type": "markdown",
   "metadata": {},
   "source": [
    "# Bonus\n",
    "### 19. All the companies that have been founded between 2000 and 2010, but have not been acquired before 2011."
   ]
  },
  {
   "cell_type": "code",
   "execution_count": 24,
   "metadata": {},
   "outputs": [
    {
     "data": {
      "text/plain": [
       "[{'name': 'Bestofmedia Group',\n",
       "  'founded_year': 2000,\n",
       "  'acquisition': {'acquired_year': 2013}},\n",
       " {'name': 'Zong',\n",
       "  'founded_year': 2000,\n",
       "  'acquisition': {'acquired_year': 2011}},\n",
       " {'name': 'Astaro',\n",
       "  'founded_year': 2000,\n",
       "  'acquisition': {'acquired_year': 2011}},\n",
       " {'name': 'WooMe',\n",
       "  'founded_year': 2000,\n",
       "  'acquisition': {'acquired_year': 2011}},\n",
       " {'name': 'Smilebox',\n",
       "  'founded_year': 2000,\n",
       "  'acquisition': {'acquired_year': 2011}},\n",
       " {'name': 'Axis',\n",
       "  'founded_year': 2000,\n",
       "  'acquisition': {'acquired_year': 2013}},\n",
       " {'name': 'Axis',\n",
       "  'founded_year': 2000,\n",
       "  'acquisition': {'acquired_year': 2013}},\n",
       " {'name': 'Handmark',\n",
       "  'founded_year': 2000,\n",
       "  'acquisition': {'acquired_year': 2013}},\n",
       " {'name': 'SnapNames',\n",
       "  'founded_year': 2000,\n",
       "  'acquisition': {'acquired_year': 2012}},\n",
       " {'name': 'SelectMinds',\n",
       "  'founded_year': 2000,\n",
       "  'acquisition': {'acquired_year': 2012}}]"
      ]
     },
     "execution_count": 24,
     "metadata": {},
     "output_type": "execute_result"
    }
   ],
   "source": [
    "# Your Code\n",
    "query = {'$and':[{'founded_year': {'$gte': 2000}},{'founded_year':{'$lte': 2010}},{'acquisition.acquired_year':{'$gte': 2011}}]}\n",
    "filtro = {'name': True, 'founded_year': True, 'acquisition.acquired_year': True, '_id': False}\n",
    "list(colec.find(query,filtro).sort('founded_year',1).limit(10))\n"
   ]
  },
  {
   "cell_type": "markdown",
   "metadata": {},
   "source": [
    "### 20. All the companies that have been ‘deadpooled’ after the third year"
   ]
  },
  {
   "cell_type": "code",
   "execution_count": 27,
   "metadata": {},
   "outputs": [
    {
     "data": {
      "text/plain": [
       "[{'name': 'Weblogs', 'deadpooled_year': 1963},\n",
       " {'name': 'Bookrags', 'deadpooled_year': 1991},\n",
       " {'name': 'Ardesic', 'deadpooled_year': 2001},\n",
       " {'name': 'sportgate AG', 'deadpooled_year': 2001},\n",
       " {'name': 'Excite@Home', 'deadpooled_year': 2001},\n",
       " {'name': 'Webvan', 'deadpooled_year': 2001},\n",
       " {'name': 'adBrite', 'deadpooled_year': 2001},\n",
       " {'name': 'RealNames', 'deadpooled_year': 2002},\n",
       " {'name': 'SpongeFish', 'deadpooled_year': 2003},\n",
       " {'name': 'MediaRush', 'deadpooled_year': 2004}]"
      ]
     },
     "execution_count": 27,
     "metadata": {},
     "output_type": "execute_result"
    }
   ],
   "source": [
    "query = {'deadpooled_year': {'$gt': 3}}\n",
    "filtro = {'name': True, 'deadpooled_year': True, '_id': False}\n",
    "list(colec.find(query,filtro).sort('deadpooled_year', 1).limit(10))"
   ]
  }
 ],
 "metadata": {
  "kernelspec": {
   "display_name": "Python 3 (ipykernel)",
   "language": "python",
   "name": "python3"
  },
  "language_info": {
   "codemirror_mode": {
    "name": "ipython",
    "version": 3
   },
   "file_extension": ".py",
   "mimetype": "text/x-python",
   "name": "python",
   "nbconvert_exporter": "python",
   "pygments_lexer": "ipython3",
   "version": "3.9.12"
  }
 },
 "nbformat": 4,
 "nbformat_minor": 2
}
