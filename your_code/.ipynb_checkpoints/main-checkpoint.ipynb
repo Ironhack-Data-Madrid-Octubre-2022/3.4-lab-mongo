{
 "cells": [
  {
   "cell_type": "markdown",
   "metadata": {},
   "source": [
    "# Advanced Querying Mongo"
   ]
  },
  {
   "cell_type": "markdown",
   "metadata": {},
   "source": [
    "Importing libraries and setting up connection"
   ]
  },
  {
   "cell_type": "code",
   "execution_count": 4,
   "metadata": {},
   "outputs": [
    {
     "name": "stdout",
     "output_type": "stream",
     "text": [
      "Collecting pymongo\n",
      "  Downloading pymongo-4.3.2-cp39-cp39-win_amd64.whl (381 kB)\n",
      "Collecting dnspython<3.0.0,>=1.16.0\n",
      "  Downloading dnspython-2.2.1-py3-none-any.whl (269 kB)\n",
      "Installing collected packages: dnspython, pymongo\n",
      "Successfully installed dnspython-2.2.1 pymongo-4.3.2\n",
      "Note: you may need to restart the kernel to use updated packages.\n"
     ]
    }
   ],
   "source": [
    "%pip install pymongo"
   ]
  },
  {
   "cell_type": "code",
   "execution_count": 5,
   "metadata": {},
   "outputs": [],
   "source": [
    "from pymongo import MongoClient\n"
   ]
  },
  {
   "cell_type": "code",
   "execution_count": 6,
   "metadata": {},
   "outputs": [],
   "source": [
    "import warnings\n",
    "warnings.filterwarnings('ignore')"
   ]
  },
  {
   "cell_type": "code",
   "execution_count": 7,
   "metadata": {},
   "outputs": [],
   "source": [
    "str_conn='mongodb://localhost:27017'\n",
    "\n",
    "cursor=MongoClient(str_conn)\n",
    "\n"
   ]
  },
  {
   "cell_type": "code",
   "execution_count": 11,
   "metadata": {},
   "outputs": [],
   "source": [
    "db=cursor.companies\n",
    "colec=db.companies"
   ]
  },
  {
   "cell_type": "markdown",
   "metadata": {},
   "source": [
    "### 1. All the companies whose name match 'Babelgum'. Retrieve only their `name` field."
   ]
  },
  {
   "cell_type": "code",
   "execution_count": 15,
   "metadata": {},
   "outputs": [
    {
     "data": {
      "text/plain": [
       "[{'name': 'Babelgum'}]"
      ]
     },
     "execution_count": 15,
     "metadata": {},
     "output_type": "execute_result"
    }
   ],
   "source": [
    "query = {'name': 'Babelgum'}\n",
    "\n",
    "filtro = {'name':True,'_id': False}\n",
    "\n",
    "list(colec.find(query,filtro))\n",
    "\n",
    "\n",
    "#list(colec.find({'edad': {'$gt': 24}})) >>> WHERE edad>24;\n",
    "\n",
    "# filtro={'name': True, 'category_code': True, '_id': False} SELECT : Selecciona cada una de las columnas a las que le vamos a aplicar el where\n",
    "\n",
    "# list(colec.find(query, filtro)) Estructura query + filtro\n",
    "\n"
   ]
  },
  {
   "cell_type": "markdown",
   "metadata": {},
   "source": [
    "### 2. All the companies that have more than 5000 employees. Limit the search to 20 companies and sort them by **number of employees**."
   ]
  },
  {
   "cell_type": "code",
   "execution_count": 20,
   "metadata": {},
   "outputs": [
    {
     "data": {
      "text/plain": [
       "[{'name': 'Nintendo'},\n",
       " {'name': 'Hexaware Technologies'},\n",
       " {'name': 'Facebook'},\n",
       " {'name': 'OpenText'},\n",
       " {'name': 'CPM Braxis'},\n",
       " {'name': 'LSI'},\n",
       " {'name': 'Microchip Technologies'},\n",
       " {'name': 'Mediaset'},\n",
       " {'name': 'Mindray Medical International'},\n",
       " {'name': 'Dentsu'},\n",
       " {'name': 'Atmel'},\n",
       " {'name': 'Tata Communications'},\n",
       " {'name': 'Baidu'},\n",
       " {'name': 'Acxiom'},\n",
       " {'name': 'Acxiom'},\n",
       " {'name': 'SRA International'},\n",
       " {'name': \"Moody's\"},\n",
       " {'name': 'ManTech'},\n",
       " {'name': 'Adobe Systems'},\n",
       " {'name': 'Broadcom'}]"
      ]
     },
     "execution_count": 20,
     "metadata": {},
     "output_type": "execute_result"
    }
   ],
   "source": [
    "query = {'number_of_employees': {'$gt': 5000}} # WHERE {VALOR : {CONDICIONAL : CONDICION}}\n",
    "\n",
    "filtro = {'name':True,'_id': False} # SELECT\n",
    "\n",
    "list(colec.find(query,filtro).sort('number_of_employees', 1).limit(20)) #ordeno con .sort, limito con .limit"
   ]
  },
  {
   "cell_type": "markdown",
   "metadata": {},
   "source": [
    "### 3. All the companies founded between 2000 and 2005, both years included. Retrieve only the `name` and `founded_year` fields."
   ]
  },
  {
   "cell_type": "code",
   "execution_count": 28,
   "metadata": {},
   "outputs": [
    {
     "data": {
      "text/plain": [
       "[{'name': 'Wetpaint', 'founded_year': 2005},\n",
       " {'name': 'Zoho', 'founded_year': 2005},\n",
       " {'name': 'Digg', 'founded_year': 2004},\n",
       " {'name': 'Facebook', 'founded_year': 2004},\n",
       " {'name': 'Omnidrive', 'founded_year': 2005},\n",
       " {'name': 'StumbleUpon', 'founded_year': 2002},\n",
       " {'name': 'Gizmoz', 'founded_year': 2003},\n",
       " {'name': 'Helio', 'founded_year': 2005},\n",
       " {'name': 'Plaxo', 'founded_year': 2002},\n",
       " {'name': 'Technorati', 'founded_year': 2002},\n",
       " {'name': 'AddThis', 'founded_year': 2004},\n",
       " {'name': 'Veoh', 'founded_year': 2004},\n",
       " {'name': 'Jingle Networks', 'founded_year': 2005},\n",
       " {'name': 'Meetup', 'founded_year': 2002},\n",
       " {'name': 'LifeLock', 'founded_year': 2005},\n",
       " {'name': 'Wesabe', 'founded_year': 2005},\n",
       " {'name': 'Jangl SMS', 'founded_year': 2005},\n",
       " {'name': 'SmugMug', 'founded_year': 2002},\n",
       " {'name': 'Jajah', 'founded_year': 2005},\n",
       " {'name': 'Skype', 'founded_year': 2003}]"
      ]
     },
     "execution_count": 28,
     "metadata": {},
     "output_type": "execute_result"
    }
   ],
   "source": [
    "query ={'$and':[{'founded_year': {'$gte': 2000}}, \n",
    "                         {'founded_year': {'$lte': 2005}}]}  # WHERE {VALOR : {CONDICIONAL : CONDICION}}\n",
    "\n",
    "filtro = {'name':True,'founded_year':True,'_id': False} # SELECT\n",
    "\n",
    "list(colec.find(query,filtro).limit(20)) #ordeno con .sort, limito con .limit"
   ]
  },
  {
   "cell_type": "markdown",
   "metadata": {},
   "source": [
    "### 4. All the companies that had a Valuation Amount of more than 100.000.000 and have been founded before 2010. Retrieve only the `name` and `ipo` fields."
   ]
  },
  {
   "cell_type": "code",
   "execution_count": 136,
   "metadata": {},
   "outputs": [
    {
     "data": {
      "text/plain": [
       "[{'name': 'Postini',\n",
       "  'founded_year': 1999,\n",
       "  'acquisition': {'price_amount': 625000000}},\n",
       " {'name': 'Plaxo',\n",
       "  'founded_year': 2002,\n",
       "  'acquisition': {'price_amount': 150000000}},\n",
       " {'name': 'Jajah',\n",
       "  'founded_year': 2005,\n",
       "  'acquisition': {'price_amount': 207000000}},\n",
       " {'name': 'Skype',\n",
       "  'founded_year': 2003,\n",
       "  'acquisition': {'price_amount': 2600000000}},\n",
       " {'name': 'YouTube',\n",
       "  'founded_year': 2005,\n",
       "  'acquisition': {'price_amount': 1650000000}}]"
      ]
     },
     "execution_count": 136,
     "metadata": {},
     "output_type": "execute_result"
    }
   ],
   "source": [
    "query ={'$and':[{'acquisition.price_amount': {'$gt': 1e8}}, \n",
    "                {'founded_year': {'$lte': 2010}}]}  # WHERE {VALOR : {CONDICIONAL : CONDICION}}\n",
    "\n",
    "filtro = {'name':True,'founded_year':True,'acquisition.price_amount':True,'_id': False } # SELECT\n",
    "\n",
    "list(colec.find(query,filtro).limit(5)) #ordeno con .sort, limito con .limit"
   ]
  },
  {
   "cell_type": "code",
   "execution_count": 32,
   "metadata": {},
   "outputs": [
    {
     "data": {
      "text/plain": [
       "[]"
      ]
     },
     "execution_count": 32,
     "metadata": {},
     "output_type": "execute_result"
    }
   ],
   "source": []
  },
  {
   "cell_type": "markdown",
   "metadata": {},
   "source": [
    "### 5. All the companies that have less than 1000 employees and have been founded before 2005. Order them by the number of employees and limit the search to 10 companies."
   ]
  },
  {
   "cell_type": "code",
   "execution_count": 36,
   "metadata": {},
   "outputs": [
    {
     "data": {
      "text/plain": [
       "[{'name': 'Skype', 'number_of_employees': 0, 'founded_year': 2003},\n",
       " {'name': 'Simpy', 'number_of_employees': 0, 'founded_year': 2004},\n",
       " {'name': 'Eurekster', 'number_of_employees': 0, 'founded_year': 2004},\n",
       " {'name': 'Ticketmaster', 'number_of_employees': 0, 'founded_year': 1976},\n",
       " {'name': 'Fox Interactive Media',\n",
       "  'number_of_employees': 0,\n",
       "  'founded_year': 1979},\n",
       " {'name': 'stylediary', 'number_of_employees': 0, 'founded_year': 2004},\n",
       " {'name': 'Monster', 'number_of_employees': 0, 'founded_year': 1994},\n",
       " {'name': 'EditGrid', 'number_of_employees': 0, 'founded_year': 2003},\n",
       " {'name': 'Compete', 'number_of_employees': 0, 'founded_year': 2000},\n",
       " {'name': 'MindTouch', 'number_of_employees': 0, 'founded_year': 2004}]"
      ]
     },
     "execution_count": 36,
     "metadata": {},
     "output_type": "execute_result"
    }
   ],
   "source": [
    "query ={'$and':[{'number_of_employees': {'$lt': 1000}}, \n",
    "                {'founded_year': {'$lt': 2005}}]}  # WHERE {VALOR : {CONDICIONAL : CONDICION}}\n",
    "\n",
    "filtro = {'name':True,'number_of_employees':True, 'founded_year':True,'_id': False} # SELECT\n",
    "\n",
    "list(colec.find(query,filtro).sort('number_of_employees', 1).limit(10)) #ordeno con .sort, limito con .limit"
   ]
  },
  {
   "cell_type": "markdown",
   "metadata": {},
   "source": [
    "### 6. All the companies that don't include the `partners` field."
   ]
  },
  {
   "cell_type": "code",
   "execution_count": 57,
   "metadata": {},
   "outputs": [
    {
     "data": {
      "text/plain": [
       "[{'name': 'Wetpaint', 'founded_year': 2005, 'partners': []},\n",
       " {'name': 'AdventNet', 'founded_year': 1996, 'partners': []},\n",
       " {'name': 'Zoho', 'founded_year': 2005, 'partners': []},\n",
       " {'name': 'Digg', 'founded_year': 2004, 'partners': []},\n",
       " {'name': 'Facebook', 'founded_year': 2004, 'partners': []}]"
      ]
     },
     "execution_count": 57,
     "metadata": {},
     "output_type": "execute_result"
    }
   ],
   "source": [
    "\n",
    "\n",
    "query ={'partners':{'$ne':'null'}} # NULOS\n",
    "                \n",
    "\n",
    "filtro = {'name':True,'partners':True, 'founded_year':True,'_id': False} # SELECT\n",
    "\n",
    "list(colec.find(query,filtro).limit(5)) #ordeno con .sort, limito con .limit"
   ]
  },
  {
   "cell_type": "markdown",
   "metadata": {},
   "source": [
    "### 7. All the companies that have a null type of value on the `category_code` field."
   ]
  },
  {
   "cell_type": "code",
   "execution_count": 79,
   "metadata": {},
   "outputs": [
    {
     "data": {
      "text/plain": [
       "[{'name': 'Collective', 'category_code': None, 'founded_year': None},\n",
       " {'name': 'Snimmer', 'category_code': None, 'founded_year': None},\n",
       " {'name': 'KoolIM', 'category_code': None, 'founded_year': None},\n",
       " {'name': 'Level9 Media', 'category_code': None, 'founded_year': None},\n",
       " {'name': 'VidKing', 'category_code': None, 'founded_year': None}]"
      ]
     },
     "execution_count": 79,
     "metadata": {},
     "output_type": "execute_result"
    }
   ],
   "source": [
    "query ={'category_code':None} # WHERE\n",
    "                \n",
    "\n",
    "filtro = {'name':True,'category_code':True, 'founded_year':True,'_id': False} # SELECT\n",
    "\n",
    "list(colec.find(query,filtro).limit(5)) #ordeno con .sort, limito con .limit"
   ]
  },
  {
   "cell_type": "markdown",
   "metadata": {},
   "source": [
    "### 8. All the companies that have at least 100 employees but less than 1000. Retrieve only the `name` and `number of employees` fields."
   ]
  },
  {
   "cell_type": "code",
   "execution_count": 66,
   "metadata": {},
   "outputs": [
    {
     "data": {
      "text/plain": [
       "[{'name': 'AdventNet', 'number_of_employees': 600},\n",
       " {'name': 'AddThis', 'number_of_employees': 120},\n",
       " {'name': 'OpenX', 'number_of_employees': 305},\n",
       " {'name': 'LifeLock', 'number_of_employees': 644},\n",
       " {'name': 'Jajah', 'number_of_employees': 110}]"
      ]
     },
     "execution_count": 66,
     "metadata": {},
     "output_type": "execute_result"
    }
   ],
   "source": [
    "query ={'$and':[{'number_of_employees': {'$gte': 100}},  # WHERE {VALOR : {CONDICIONAL : CONDICION}}\n",
    "                {'number_of_employees': {'$lte': 1000}}]} \n",
    "\n",
    "filtro = {'name':True,'number_of_employees':True, '_id': False} # SELECT\n",
    "\n",
    "list(colec.find(query,filtro).limit(5))"
   ]
  },
  {
   "cell_type": "markdown",
   "metadata": {},
   "source": [
    "### 9. Order all the companies by their IPO price in a descending order."
   ]
  },
  {
   "cell_type": "code",
   "execution_count": 89,
   "metadata": {},
   "outputs": [
    {
     "data": {
      "text/plain": [
       "[{'name': 'GREE', 'ipo': {'valuation_amount': 108960000000}},\n",
       " {'name': 'Facebook', 'ipo': {'valuation_amount': 104000000000}},\n",
       " {'name': 'Amazon', 'ipo': {'valuation_amount': 100000000000}},\n",
       " {'name': 'Twitter', 'ipo': {'valuation_amount': 18100000000}},\n",
       " {'name': 'Groupon', 'ipo': {'valuation_amount': 12800000000}},\n",
       " {'name': 'Tencent', 'ipo': {'valuation_amount': 11000000000}},\n",
       " {'name': 'Western Digital', 'ipo': {'valuation_amount': 9430000000}},\n",
       " {'name': 'LinkedIn', 'ipo': {'valuation_amount': 9310000000}},\n",
       " {'name': 'BMC Software', 'ipo': {'valuation_amount': 6000000000}},\n",
       " {'name': 'Rackspace', 'ipo': {'valuation_amount': 5440000000}}]"
      ]
     },
     "execution_count": 89,
     "metadata": {},
     "output_type": "execute_result"
    }
   ],
   "source": [
    "query = {}\n",
    "\n",
    "filtro = {'name':True,'ipo.valuation_amount':True, '_id': False}\n",
    "\n",
    "list(colec.find(query,filtro).sort('ipo.valuation_amount', -1).limit(10))"
   ]
  },
  {
   "cell_type": "markdown",
   "metadata": {},
   "source": [
    "### 10. Retrieve the 10 companies with more employees, order by the `number of employees`"
   ]
  },
  {
   "cell_type": "code",
   "execution_count": 91,
   "metadata": {},
   "outputs": [
    {
     "data": {
      "text/plain": [
       "[{'name': 'Siemens', 'number_of_employees': 405000},\n",
       " {'name': 'IBM', 'number_of_employees': 388000},\n",
       " {'name': 'Toyota', 'number_of_employees': 320000},\n",
       " {'name': 'PayPal', 'number_of_employees': 300000},\n",
       " {'name': 'Nippon Telegraph and Telephone Corporation',\n",
       "  'number_of_employees': 227000},\n",
       " {'name': 'Samsung Electronics', 'number_of_employees': 221726},\n",
       " {'name': 'Accenture', 'number_of_employees': 205000},\n",
       " {'name': 'Tata Consultancy Services', 'number_of_employees': 200300},\n",
       " {'name': 'Flextronics International', 'number_of_employees': 200000},\n",
       " {'name': 'Safeway', 'number_of_employees': 186000}]"
      ]
     },
     "execution_count": 91,
     "metadata": {},
     "output_type": "execute_result"
    }
   ],
   "source": [
    "query = {}\n",
    "\n",
    "filtro = {'name':True,'number_of_employees':True, '_id': False}\n",
    "\n",
    "list(colec.find(query,filtro).sort('number_of_employees', -1).limit(10))"
   ]
  },
  {
   "cell_type": "markdown",
   "metadata": {},
   "source": [
    "### 11. All the companies founded on the second semester of the year. Limit your search to 1000 companies."
   ]
  },
  {
   "cell_type": "code",
   "execution_count": 94,
   "metadata": {},
   "outputs": [
    {
     "data": {
      "text/plain": [
       "[{'name': 'Wetpaint', 'founded_month': 10},\n",
       " {'name': 'Zoho', 'founded_month': 9},\n",
       " {'name': 'Digg', 'founded_month': 10},\n",
       " {'name': 'Omnidrive', 'founded_month': 11},\n",
       " {'name': 'eBay', 'founded_month': 9}]"
      ]
     },
     "execution_count": 94,
     "metadata": {},
     "output_type": "execute_result"
    }
   ],
   "source": [
    "query = {'founded_month': {'$gt': 6}} # WHERE {VALOR : {CONDICIONAL : CONDICION}}\n",
    "\n",
    "filtro = {'name':True,'founded_month':True,'_id': False} # SELECT\n",
    "\n",
    "list(colec.find(query,filtro).limit(5)) #ordeno con .sort, limito con .limit"
   ]
  },
  {
   "cell_type": "markdown",
   "metadata": {},
   "source": [
    "### 12. All the companies founded before 2000 that have an acquisition amount of more than 10.000.00"
   ]
  },
  {
   "cell_type": "code",
   "execution_count": 96,
   "metadata": {},
   "outputs": [
    {
     "data": {
      "text/plain": [
       "[{'name': 'AdventNet', 'founded_year': 1996},\n",
       " {'name': 'Postini', 'founded_year': 1999},\n",
       " {'name': 'Fox Interactive Media', 'founded_year': 1979},\n",
       " {'name': 'eBay', 'founded_year': 1995},\n",
       " {'name': 'CBS', 'founded_year': 1986},\n",
       " {'name': 'Viacom', 'founded_year': 1971},\n",
       " {'name': 'Cisco', 'founded_year': 1984},\n",
       " {'name': 'Yahoo!', 'founded_year': 1994},\n",
       " {'name': 'Google', 'founded_year': 1998},\n",
       " {'name': 'Intel', 'founded_year': 1968},\n",
       " {'name': 'AllofMP3', 'founded_year': 2000},\n",
       " {'name': 'Steorn', 'founded_year': 2000},\n",
       " {'name': 'MeeVee', 'founded_year': 2000},\n",
       " {'name': 'SideStep', 'founded_year': 1999},\n",
       " {'name': 'BabyCenter', 'founded_year': 1997},\n",
       " {'name': 'Zazzle', 'founded_year': 1999},\n",
       " {'name': 'Ticketmaster', 'founded_year': 1976},\n",
       " {'name': 'RegOnline', 'founded_year': 1996},\n",
       " {'name': 'Scripps Networks Interactive', 'founded_year': 1994},\n",
       " {'name': 'Recipezaar', 'founded_year': 1999}]"
      ]
     },
     "execution_count": 96,
     "metadata": {},
     "output_type": "execute_result"
    }
   ],
   "source": [
    "query = {'founded_year': {'$lte': 2000}} # WHERE {VALOR : {CONDICIONAL : CONDICION}}\n",
    "\n",
    "filtro = {'name':True,'founded_year':True,'_id': False} # SELECT\n",
    "\n",
    "list(colec.find(query,filtro).limit(20)) #ordeno con .sort, limito con .limit"
   ]
  },
  {
   "cell_type": "markdown",
   "metadata": {},
   "source": [
    "### 13. All the companies that have been acquired after 2010, order by the acquisition amount, and retrieve only their `name` and `acquisition` field."
   ]
  },
  {
   "cell_type": "code",
   "execution_count": 101,
   "metadata": {},
   "outputs": [
    {
     "data": {
      "text/plain": [
       "[{'name': 'T-Mobile',\n",
       "  'acquisition': {'price_amount': 39000000000,\n",
       "   'price_currency_code': 'USD',\n",
       "   'term_code': None,\n",
       "   'source_url': 'http://techcrunch.com/2011/03/20/in-the-race-for-more-spectrum-att-is-acquiring-t-mobile-for-39-billion/',\n",
       "   'source_description': 'In The Race For More Spectrum, AT&T Is Acquiring T-Mobile For $39 Billion',\n",
       "   'acquired_year': 2011,\n",
       "   'acquired_month': 3,\n",
       "   'acquired_day': 20,\n",
       "   'acquiring_company': {'name': 'AT&T', 'permalink': 'at-t'}}},\n",
       " {'name': 'Goodrich Corporation',\n",
       "  'acquisition': {'price_amount': 18400000000,\n",
       "   'price_currency_code': 'USD',\n",
       "   'term_code': None,\n",
       "   'source_url': 'http://www.masshightech.com/stories/2011/09/19/daily37-UTC-shells-out-184-billion-for-Goodrich.html',\n",
       "   'source_description': 'UTC shells out $18.4 billion for Goodrich',\n",
       "   'acquired_year': 2011,\n",
       "   'acquired_month': 9,\n",
       "   'acquired_day': 22,\n",
       "   'acquiring_company': {'name': 'United Technologies',\n",
       "    'permalink': 'united-technologies'}}},\n",
       " {'name': 'LSI',\n",
       "  'acquisition': {'price_amount': 6600000000,\n",
       "   'price_currency_code': 'USD',\n",
       "   'term_code': 'cash',\n",
       "   'source_url': 'http://dealbook.nytimes.com/2013/12/16/avago-to-buy-lsi-for-6-6-billion/?_r=0',\n",
       "   'source_description': 'Avago to Buy LSI for $6.6 Billion',\n",
       "   'acquired_year': 2013,\n",
       "   'acquired_month': 12,\n",
       "   'acquired_day': 16,\n",
       "   'acquiring_company': {'name': 'Avago Technologies',\n",
       "    'permalink': 'avago-technologies'}}}]"
      ]
     },
     "execution_count": 101,
     "metadata": {},
     "output_type": "execute_result"
    }
   ],
   "source": [
    "query = {'acquisition.acquired_year': {'$gt': 2010}} # WHERE {VALOR : {CONDICIONAL : CONDICION}}\n",
    "\n",
    "filtro = {'name':True,'acquisition':True,'_id': False} # SELECT\n",
    "\n",
    "list(colec.find(query,filtro).sort('acquisition.price_amount',-1).limit(3)) #ordeno con .sort, limito con .limit"
   ]
  },
  {
   "cell_type": "markdown",
   "metadata": {},
   "source": [
    "### 14. Order the companies by their `founded year`, retrieving only their `name` and `founded year`."
   ]
  },
  {
   "cell_type": "code",
   "execution_count": 106,
   "metadata": {},
   "outputs": [
    {
     "data": {
      "text/plain": [
       "[{'name': 'Wamba', 'founded_year': 2013},\n",
       " {'name': 'Gimigo', 'founded_year': 2013},\n",
       " {'name': 'Clowdy', 'founded_year': 2013},\n",
       " {'name': 'Fixya', 'founded_year': 2013},\n",
       " {'name': 'Fluc', 'founded_year': 2013},\n",
       " {'name': 'SEOGroup', 'founded_year': 2013},\n",
       " {'name': 'Pikk', 'founded_year': 2013},\n",
       " {'name': 'WhosCall', 'founded_year': 2013},\n",
       " {'name': 'iBazar', 'founded_year': 2013},\n",
       " {'name': 'Advaliant', 'founded_year': 2013}]"
      ]
     },
     "execution_count": 106,
     "metadata": {},
     "output_type": "execute_result"
    }
   ],
   "source": [
    "query = {} # WHERE {VALOR : {CONDICIONAL : CONDICION}}\n",
    "\n",
    "filtro = {'name':True,'founded_year':True,'_id': False} # SELECT\n",
    "\n",
    "list(colec.find(query,filtro).sort('founded_year',-1).limit(10)) #ordeno con .sort, limito con .limit"
   ]
  },
  {
   "cell_type": "markdown",
   "metadata": {},
   "source": [
    "### 15. All the companies that have been founded on the first seven days of the month, including the seventh. Sort them by their `acquisition price` in a descending order. Limit the search to 10 documents."
   ]
  },
  {
   "cell_type": "code",
   "execution_count": 110,
   "metadata": {},
   "outputs": [
    {
     "data": {
      "text/plain": [
       "[{'name': 'Netscape',\n",
       "  'founded_day': 4,\n",
       "  'acquisition': {'price_amount': 4200000000}},\n",
       " {'name': 'PayPal',\n",
       "  'founded_day': 1,\n",
       "  'acquisition': {'price_amount': 1500000000}},\n",
       " {'name': 'Zappos',\n",
       "  'founded_day': 1,\n",
       "  'acquisition': {'price_amount': 1200000000}}]"
      ]
     },
     "execution_count": 110,
     "metadata": {},
     "output_type": "execute_result"
    }
   ],
   "source": [
    "query = {'founded_day': {'$lte': 7}} # WHERE {VALOR : {CONDICIONAL : CONDICION}}\n",
    "\n",
    "filtro = {'name':True,'founded_day':True,'acquisition.price_amount':True,'_id': False} # SELECT\n",
    "\n",
    "list(colec.find(query,filtro).sort('acquisition.price_amount',-1).limit(3)) #ordeno con .sort, limito con .limit"
   ]
  },
  {
   "cell_type": "markdown",
   "metadata": {},
   "source": [
    "### 16. All the companies on the 'web' `category` that have more than 4000 employees. Sort them by the amount of employees in ascending order."
   ]
  },
  {
   "cell_type": "code",
   "execution_count": 115,
   "metadata": {},
   "outputs": [
    {
     "data": {
      "text/plain": [
       "[{'name': 'Expedia', 'number_of_employees': 4400},\n",
       " {'name': 'AOL', 'number_of_employees': 8000},\n",
       " {'name': 'Webkinz', 'number_of_employees': 8657}]"
      ]
     },
     "execution_count": 115,
     "metadata": {},
     "output_type": "execute_result"
    }
   ],
   "source": [
    "query ={'$and':[{'category_code':'web'},  # WHERE {VALOR : {CONDICIONAL : CONDICION}}\n",
    "                {'number_of_employees': {'$gt': 4000}}]} \n",
    "\n",
    "filtro = {'name':True,'category':True,'number_of_employees':True,'_id': False} # SELECT\n",
    "\n",
    "list(colec.find(query,filtro).sort('number_of_employees',1).limit(3)) #ordeno con .sort, limito con .limit"
   ]
  },
  {
   "cell_type": "markdown",
   "metadata": {},
   "source": [
    "### 17. All the companies whose acquisition amount is more than 10.000.000, and currency is 'EUR'."
   ]
  },
  {
   "cell_type": "code",
   "execution_count": 122,
   "metadata": {},
   "outputs": [
    {
     "data": {
      "text/plain": [
       "[{'name': 'Apertio',\n",
       "  'acquisition': {'price_amount': 140000000, 'price_currency_code': 'EUR'}},\n",
       " {'name': 'Tuenti Technologies',\n",
       "  'acquisition': {'price_amount': 70000000, 'price_currency_code': 'EUR'}},\n",
       " {'name': 'Webedia',\n",
       "  'acquisition': {'price_amount': 70000000, 'price_currency_code': 'EUR'}}]"
      ]
     },
     "execution_count": 122,
     "metadata": {},
     "output_type": "execute_result"
    }
   ],
   "source": [
    "query ={'$and':[{'acquisition.price_amount':{'$gt':10000000}},  # WHERE {VALOR : {CONDICIONAL : CONDICION}}\n",
    "                {'acquisition.price_currency_code':'EUR'}]} \n",
    "\n",
    "filtro = {'name':True,'category':True,'acquisition.price_amount':True,'acquisition.price_currency_code':True,'_id': False} # SELECT\n",
    "\n",
    "list(colec.find(query,filtro).sort('acquisition.price_amount',-1).limit(3)) #ordeno con .sort, limito con .limit"
   ]
  },
  {
   "cell_type": "markdown",
   "metadata": {},
   "source": [
    "### 18. All the companies that have been acquired on the first trimester of the year. Limit the search to 10 companies, and retrieve only their `name` and `acquisition` fields."
   ]
  },
  {
   "cell_type": "code",
   "execution_count": 126,
   "metadata": {},
   "outputs": [
    {
     "data": {
      "text/plain": [
       "[{'name': 'Kyte',\n",
       "  'acquisition': {'price_amount': None,\n",
       "   'price_currency_code': 'USD',\n",
       "   'term_code': None,\n",
       "   'source_url': 'http://techcrunch.com/2011/01/31/exclusive-kit-digital-acquires-kickapps-kewego-and-kyte-for-77-2-million/',\n",
       "   'source_description': 'KIT digital Acquires KickApps, Kewego AND Kyte For $77.2 Million',\n",
       "   'acquired_year': 2011,\n",
       "   'acquired_month': 1,\n",
       "   'acquired_day': 31,\n",
       "   'acquiring_company': {'name': 'KIT digital', 'permalink': 'kit-digital'}}},\n",
       " {'name': 'NetRatings',\n",
       "  'acquisition': {'price_amount': 327000000,\n",
       "   'price_currency_code': 'USD',\n",
       "   'term_code': 'cash',\n",
       "   'source_url': 'http://login.vnuemedia.com/hr/login/login_subscribe.jsp?id=0oqDem1gYIfIclz9i2%2Ffqj5NxCp2AC5DPbVnyT2da8GyV2mXjasabE128n69OrmcAh52%2FGE3pSG%2F%0AEKRYD9vh9EhrJrxukmUzh532fSMTZXL42gwPB80UWVtF1NwJ5UZSM%2BCkLU1mpYBoHFgiH%2Fi0f6Ax%0A9yMIVxt47t%2BHamhEQ0nkOEK24L',\n",
       "   'source_description': 'Nielsen buys rest of NetRatings',\n",
       "   'acquired_year': 2007,\n",
       "   'acquired_month': 2,\n",
       "   'acquired_day': None,\n",
       "   'acquiring_company': {'name': 'Nielsen', 'permalink': 'nielsen'}}},\n",
       " {'name': 'blogTV',\n",
       "  'acquisition': {'price_amount': None,\n",
       "   'price_currency_code': 'USD',\n",
       "   'term_code': None,\n",
       "   'source_url': 'http://techcrunch.com/2013/03/13/younow-buys-blogtv/',\n",
       "   'source_description': 'Live Social Video Network YouNow Acquires Streaming Service BlogTV',\n",
       "   'acquired_year': 2013,\n",
       "   'acquired_month': 3,\n",
       "   'acquired_day': 13,\n",
       "   'acquiring_company': {'name': 'YouNow', 'permalink': 'younow'}}},\n",
       " {'name': 'Livestream',\n",
       "  'acquisition': {'price_amount': None,\n",
       "   'price_currency_code': 'USD',\n",
       "   'term_code': 'cash_and_stock',\n",
       "   'source_url': '',\n",
       "   'source_description': 'company',\n",
       "   'acquired_year': 2008,\n",
       "   'acquired_month': 1,\n",
       "   'acquired_day': 1,\n",
       "   'acquiring_company': {'name': 'Adviqo', 'permalink': 'adviqo'}}},\n",
       " {'name': 'iContact',\n",
       "  'acquisition': {'price_amount': 169000000,\n",
       "   'price_currency_code': 'USD',\n",
       "   'term_code': 'cash_and_stock',\n",
       "   'source_url': 'http://techcrunch.com/2012/02/28/vocus-buys-email-marketing-company-icontact-for-169-million/',\n",
       "   'source_description': 'Vocus Buys Email Marketing Company iContact For $169 Million',\n",
       "   'acquired_year': 2012,\n",
       "   'acquired_month': 2,\n",
       "   'acquired_day': 28,\n",
       "   'acquiring_company': {'name': 'Vocus', 'permalink': 'vocus'}}},\n",
       " {'name': 'Coghead',\n",
       "  'acquisition': {'price_amount': None,\n",
       "   'price_currency_code': 'USD',\n",
       "   'term_code': None,\n",
       "   'source_url': 'http://www.techcrunch.com/2009/02/19/sap-acquires-cogheads-technology-as-it-looks-towards-the-cloud/',\n",
       "   'source_description': 'SAP Acquires Cogheadâ€™s Technology As It Looks Towards The Cloud',\n",
       "   'acquired_year': 2009,\n",
       "   'acquired_month': 2,\n",
       "   'acquired_day': 19,\n",
       "   'acquiring_company': {'name': 'SAP', 'permalink': 'sap'}}},\n",
       " {'name': 'Dailymotion',\n",
       "  'acquisition': {'price_amount': 168000000,\n",
       "   'price_currency_code': 'USD',\n",
       "   'term_code': None,\n",
       "   'source_url': 'http://techcrunch.com/2013/02/22/orange-acquired-dailymotion-for-168-million-by-buying-out-the-remaining-51-stake/',\n",
       "   'source_description': 'Orange Acquired Dailymotion For $168 Million By Buying Out Remaining 51% Stake [Update: Orange Confirms]',\n",
       "   'acquired_year': 2013,\n",
       "   'acquired_month': 2,\n",
       "   'acquired_day': 22,\n",
       "   'acquiring_company': {'name': 'Orange', 'permalink': 'orange'}}},\n",
       " {'name': 'Netvibes',\n",
       "  'acquisition': {'price_amount': None,\n",
       "   'price_currency_code': 'USD',\n",
       "   'term_code': None,\n",
       "   'source_url': 'http://www.marketwatch.com/story/dassault-systemes-acquires-netvibes-2012-02-09',\n",
       "   'source_description': 'Dassault Systemes Acquires Netvibes',\n",
       "   'acquired_year': 2012,\n",
       "   'acquired_month': 2,\n",
       "   'acquired_day': 9,\n",
       "   'acquiring_company': {'name': 'Dassault Systemes',\n",
       "    'permalink': 'dassault'}}},\n",
       " {'name': 'Flickr',\n",
       "  'acquisition': {'price_amount': None,\n",
       "   'price_currency_code': 'USD',\n",
       "   'term_code': 'cash_and_stock',\n",
       "   'source_url': 'http://news.cnet.com/Yahoo-buys-photo-sharing-site-Flickr/2100-1038_3-5627640.html?tag=mncol;txt',\n",
       "   'source_description': 'CNET',\n",
       "   'acquired_year': 2005,\n",
       "   'acquired_month': 3,\n",
       "   'acquired_day': None,\n",
       "   'acquiring_company': {'name': 'Yahoo!', 'permalink': 'yahoo'}}},\n",
       " {'name': 'BabyCenter',\n",
       "  'acquisition': {'price_amount': None,\n",
       "   'price_currency_code': 'USD',\n",
       "   'term_code': None,\n",
       "   'source_url': 'http://www.investor.jnj.com/releasedetail.cfm?releaseid=63836',\n",
       "   'source_description': 'Johnson & Johnson Acquires BabyCenter From eToys, Inc. Leading Online Destination for Parents Plans for Continued Expansion of Operations',\n",
       "   'acquired_year': 2001,\n",
       "   'acquired_month': 3,\n",
       "   'acquired_day': 2,\n",
       "   'acquiring_company': {'name': 'Johnson & Johnson',\n",
       "    'permalink': 'johnson-johnson'}}}]"
      ]
     },
     "execution_count": 126,
     "metadata": {},
     "output_type": "execute_result"
    }
   ],
   "source": [
    "query = {'acquisition.acquired_month': {'$lte': 3}} # WHERE {VALOR : {CONDICIONAL : CONDICION}}\n",
    "\n",
    "filtro = {'name':True,'acquisition':True,'_id': False} # SELECT\n",
    "\n",
    "list(colec.find(query,filtro).limit(10)) #ordeno con .sort, limito con .limit"
   ]
  },
  {
   "cell_type": "markdown",
   "metadata": {},
   "source": [
    "# Bonus\n",
    "### 19. All the companies that have been founded between 2000 and 2010, but have not been acquired before 2011."
   ]
  },
  {
   "cell_type": "code",
   "execution_count": 130,
   "metadata": {},
   "outputs": [
    {
     "data": {
      "text/plain": [
       "[{'name': 'Wetpaint', 'acquisition': {'acquired_year': 2013}},\n",
       " {'name': 'Digg', 'acquisition': {'acquired_year': 2012}},\n",
       " {'name': 'Geni', 'acquisition': {'acquired_year': 2012}},\n",
       " {'name': 'Kyte', 'acquisition': {'acquired_year': 2011}},\n",
       " {'name': 'Jingle Networks', 'acquisition': {'acquired_year': 2011}}]"
      ]
     },
     "execution_count": 130,
     "metadata": {},
     "output_type": "execute_result"
    }
   ],
   "source": [
    "query ={'$and':[{'founded_year': {'$gte': 2000}},  # WHERE {VALOR : {CONDICIONAL : CONDICION}}\n",
    "                {'founded_year': {'$lte': 2010}},\n",
    "                {'acquisition.acquired_year': {'$gte': 2011}}]} \n",
    "\n",
    "filtro = {'name':True,'acquisition.acquired_year':True, '_id': False} # SELECT\n",
    "\n",
    "list(colec.find(query,filtro).limit(5))"
   ]
  },
  {
   "cell_type": "markdown",
   "metadata": {},
   "source": [
    "### 20. All the companies that have been 'deadpooled' after the third year."
   ]
  },
  {
   "cell_type": "code",
   "execution_count": 132,
   "metadata": {},
   "outputs": [
    {
     "data": {
      "text/plain": [
       "[{'name': 'Omnidrive', 'deadpooled_year': 2008},\n",
       " {'name': 'Babelgum', 'deadpooled_year': 2013},\n",
       " {'name': 'Sparter', 'deadpooled_year': 2008},\n",
       " {'name': 'Thoof', 'deadpooled_year': 2013},\n",
       " {'name': 'Mercora', 'deadpooled_year': 2008},\n",
       " {'name': 'Wesabe', 'deadpooled_year': 2010},\n",
       " {'name': 'Jangl SMS', 'deadpooled_year': 2008},\n",
       " {'name': 'Stickam', 'deadpooled_year': 2013},\n",
       " {'name': 'AllPeers', 'deadpooled_year': 2008},\n",
       " {'name': 'EQO', 'deadpooled_year': 2012}]"
      ]
     },
     "execution_count": 132,
     "metadata": {},
     "output_type": "execute_result"
    }
   ],
   "source": [
    "query = {'deadpooled_year': {'$gt': 3}} # WHERE {VALOR : {CONDICIONAL : CONDICION}}\n",
    "\n",
    "filtro = {'name':True,'deadpooled_year':True,'_id': False} # SELECT\n",
    "\n",
    "list(colec.find(query,filtro).limit(10)) #ordeno con .sort, limito con .limit\n",
    "\n",
    "\n"
   ]
  },
  {
   "cell_type": "code",
   "execution_count": null,
   "metadata": {},
   "outputs": [],
   "source": []
  }
 ],
 "metadata": {
  "kernelspec": {
   "display_name": "Python 3 (ipykernel)",
   "language": "python",
   "name": "python3"
  },
  "language_info": {
   "codemirror_mode": {
    "name": "ipython",
    "version": 3
   },
   "file_extension": ".py",
   "mimetype": "text/x-python",
   "name": "python",
   "nbconvert_exporter": "python",
   "pygments_lexer": "ipython3",
   "version": "3.9.12"
  }
 },
 "nbformat": 4,
 "nbformat_minor": 2
}
